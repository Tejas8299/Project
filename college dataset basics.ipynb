{
 "cells": [
  {
   "cell_type": "markdown",
   "id": "5d46039c",
   "metadata": {},
   "source": [
    "### Basic Data Visulization on College Datasets."
   ]
  },
  {
   "cell_type": "markdown",
   "id": "07d52b0e",
   "metadata": {},
   "source": [
    "**importing libraries**"
   ]
  },
  {
   "cell_type": "code",
   "execution_count": 5,
   "id": "6945c702",
   "metadata": {},
   "outputs": [],
   "source": [
    "import numpy as np\n",
    "import pandas as pd\n",
    "import seaborn as sns\n",
    "import matplotlib.pyplot as plt\n",
    "from warnings import filterwarnings\n",
    "filterwarnings(\"ignore\")"
   ]
  },
  {
   "cell_type": "code",
   "execution_count": 2,
   "id": "b0ccc5e7",
   "metadata": {},
   "outputs": [
    {
     "data": {
      "text/html": [
       "<div>\n",
       "<style scoped>\n",
       "    .dataframe tbody tr th:only-of-type {\n",
       "        vertical-align: middle;\n",
       "    }\n",
       "\n",
       "    .dataframe tbody tr th {\n",
       "        vertical-align: top;\n",
       "    }\n",
       "\n",
       "    .dataframe thead th {\n",
       "        text-align: right;\n",
       "    }\n",
       "</style>\n",
       "<table border=\"1\" class=\"dataframe\">\n",
       "  <thead>\n",
       "    <tr style=\"text-align: right;\">\n",
       "      <th></th>\n",
       "      <th>private</th>\n",
       "      <th>apps</th>\n",
       "      <th>accept</th>\n",
       "      <th>enroll</th>\n",
       "      <th>top10perc</th>\n",
       "      <th>top25perc</th>\n",
       "      <th>f_undergrad</th>\n",
       "      <th>p_undergrad</th>\n",
       "      <th>outstate</th>\n",
       "      <th>room_board</th>\n",
       "      <th>books</th>\n",
       "      <th>personal</th>\n",
       "      <th>phd</th>\n",
       "      <th>terminal</th>\n",
       "      <th>s_f_ratio</th>\n",
       "      <th>perc_alumni</th>\n",
       "      <th>expend</th>\n",
       "      <th>grad_rate</th>\n",
       "    </tr>\n",
       "  </thead>\n",
       "  <tbody>\n",
       "    <tr>\n",
       "      <th>0</th>\n",
       "      <td>Yes</td>\n",
       "      <td>1660</td>\n",
       "      <td>1232</td>\n",
       "      <td>721</td>\n",
       "      <td>23</td>\n",
       "      <td>52</td>\n",
       "      <td>2885</td>\n",
       "      <td>537</td>\n",
       "      <td>7440</td>\n",
       "      <td>3300</td>\n",
       "      <td>450</td>\n",
       "      <td>2200</td>\n",
       "      <td>70</td>\n",
       "      <td>78</td>\n",
       "      <td>18.1</td>\n",
       "      <td>12</td>\n",
       "      <td>7041</td>\n",
       "      <td>60</td>\n",
       "    </tr>\n",
       "    <tr>\n",
       "      <th>1</th>\n",
       "      <td>Yes</td>\n",
       "      <td>2186</td>\n",
       "      <td>1924</td>\n",
       "      <td>512</td>\n",
       "      <td>16</td>\n",
       "      <td>29</td>\n",
       "      <td>2683</td>\n",
       "      <td>1227</td>\n",
       "      <td>12280</td>\n",
       "      <td>6450</td>\n",
       "      <td>750</td>\n",
       "      <td>1500</td>\n",
       "      <td>29</td>\n",
       "      <td>30</td>\n",
       "      <td>12.2</td>\n",
       "      <td>16</td>\n",
       "      <td>10527</td>\n",
       "      <td>56</td>\n",
       "    </tr>\n",
       "    <tr>\n",
       "      <th>2</th>\n",
       "      <td>Yes</td>\n",
       "      <td>1428</td>\n",
       "      <td>1097</td>\n",
       "      <td>336</td>\n",
       "      <td>22</td>\n",
       "      <td>50</td>\n",
       "      <td>1036</td>\n",
       "      <td>99</td>\n",
       "      <td>11250</td>\n",
       "      <td>3750</td>\n",
       "      <td>400</td>\n",
       "      <td>1165</td>\n",
       "      <td>53</td>\n",
       "      <td>66</td>\n",
       "      <td>12.9</td>\n",
       "      <td>30</td>\n",
       "      <td>8735</td>\n",
       "      <td>54</td>\n",
       "    </tr>\n",
       "    <tr>\n",
       "      <th>3</th>\n",
       "      <td>Yes</td>\n",
       "      <td>417</td>\n",
       "      <td>349</td>\n",
       "      <td>137</td>\n",
       "      <td>60</td>\n",
       "      <td>89</td>\n",
       "      <td>510</td>\n",
       "      <td>63</td>\n",
       "      <td>12960</td>\n",
       "      <td>5450</td>\n",
       "      <td>450</td>\n",
       "      <td>875</td>\n",
       "      <td>92</td>\n",
       "      <td>97</td>\n",
       "      <td>7.7</td>\n",
       "      <td>37</td>\n",
       "      <td>19016</td>\n",
       "      <td>59</td>\n",
       "    </tr>\n",
       "    <tr>\n",
       "      <th>4</th>\n",
       "      <td>Yes</td>\n",
       "      <td>193</td>\n",
       "      <td>146</td>\n",
       "      <td>55</td>\n",
       "      <td>16</td>\n",
       "      <td>44</td>\n",
       "      <td>249</td>\n",
       "      <td>869</td>\n",
       "      <td>7560</td>\n",
       "      <td>4120</td>\n",
       "      <td>800</td>\n",
       "      <td>1500</td>\n",
       "      <td>76</td>\n",
       "      <td>72</td>\n",
       "      <td>11.9</td>\n",
       "      <td>2</td>\n",
       "      <td>10922</td>\n",
       "      <td>15</td>\n",
       "    </tr>\n",
       "  </tbody>\n",
       "</table>\n",
       "</div>"
      ],
      "text/plain": [
       "  private  apps  accept  enroll  top10perc  top25perc  f_undergrad  \\\n",
       "0     Yes  1660    1232     721         23         52         2885   \n",
       "1     Yes  2186    1924     512         16         29         2683   \n",
       "2     Yes  1428    1097     336         22         50         1036   \n",
       "3     Yes   417     349     137         60         89          510   \n",
       "4     Yes   193     146      55         16         44          249   \n",
       "\n",
       "   p_undergrad  outstate  room_board  books  personal  phd  terminal  \\\n",
       "0          537      7440        3300    450      2200   70        78   \n",
       "1         1227     12280        6450    750      1500   29        30   \n",
       "2           99     11250        3750    400      1165   53        66   \n",
       "3           63     12960        5450    450       875   92        97   \n",
       "4          869      7560        4120    800      1500   76        72   \n",
       "\n",
       "   s_f_ratio  perc_alumni  expend  grad_rate  \n",
       "0       18.1           12    7041         60  \n",
       "1       12.2           16   10527         56  \n",
       "2       12.9           30    8735         54  \n",
       "3        7.7           37   19016         59  \n",
       "4       11.9            2   10922         15  "
      ]
     },
     "execution_count": 2,
     "metadata": {},
     "output_type": "execute_result"
    }
   ],
   "source": [
    "data=pd.read_csv(\"data.csv\")\n",
    "data.head()   #Printing first 5 values"
   ]
  },
  {
   "cell_type": "markdown",
   "id": "0679ecf5",
   "metadata": {},
   "source": [
    "- Private : Public/private indicator .\n",
    "- Apps : Number of applications received.\n",
    "- Accept : Number of applicants accepted.\n",
    "- Enroll : Number of new students enrolled. \n",
    "- Top10perc : New students from top 10 % of high school class.\n",
    "- Top25perc : New students from top 25 % of high school class.\n",
    "- F.Undergrad : Number of full-time undergraduates.\n",
    "- P.Undergrad : Number of part-time undergraduates.\n",
    "- Outstate : Out-of-state tuition \n",
    "- Room.Board : Room and board costs \n",
    "- Books : Estimated book costs \n",
    "- Personal : Estimated personal spending\n",
    "- PhD : Percent of faculty with Ph.D.’s \n",
    "- Terminal : Percent of faculty with terminal degree \n",
    "- S.F.Ratio : Student/faculty ratio\n",
    "- perc.alumni : Percent of alumni who donate \n",
    "- Expend : Instructional expenditure per student \n",
    "- Grad.Rate : Graduation rate.\n"
   ]
  },
  {
   "cell_type": "markdown",
   "id": "fe299e6d",
   "metadata": {},
   "source": [
    "**A) Obtain the first column in college data?**"
   ]
  },
  {
   "cell_type": "code",
   "execution_count": 3,
   "id": "7fe23777",
   "metadata": {},
   "outputs": [
    {
     "data": {
      "text/plain": [
       "0      Yes\n",
       "1      Yes\n",
       "2      Yes\n",
       "3      Yes\n",
       "4      Yes\n",
       "      ... \n",
       "772     No\n",
       "773    Yes\n",
       "774    Yes\n",
       "775    Yes\n",
       "776    Yes\n",
       "Name: private, Length: 777, dtype: object"
      ]
     },
     "execution_count": 3,
     "metadata": {},
     "output_type": "execute_result"
    }
   ],
   "source": [
    "rown=data['private']\n",
    "rown"
   ]
  },
  {
   "cell_type": "markdown",
   "id": "38244662",
   "metadata": {},
   "source": [
    "**B) Obtain summaries of college data?**"
   ]
  },
  {
   "cell_type": "code",
   "execution_count": 7,
   "id": "d94ea9fa",
   "metadata": {},
   "outputs": [
    {
     "name": "stdout",
     "output_type": "stream",
     "text": [
      "             count          mean          std     min     25%     50%  \\\n",
      "apps         777.0   3001.638353  3870.201484    81.0   776.0  1558.0   \n",
      "accept       777.0   2018.804376  2451.113971    72.0   604.0  1110.0   \n",
      "enroll       777.0    779.972973   929.176190    35.0   242.0   434.0   \n",
      "top10perc    777.0     27.558559    17.640364     1.0    15.0    23.0   \n",
      "top25perc    777.0     55.796654    19.804778     9.0    41.0    54.0   \n",
      "f_undergrad  777.0   3699.907336  4850.420531   139.0   992.0  1707.0   \n",
      "p_undergrad  777.0    855.298584  1522.431887     1.0    95.0   353.0   \n",
      "outstate     777.0  10440.669241  4023.016484  2340.0  7320.0  9990.0   \n",
      "room_board   777.0   4357.526384  1096.696416  1780.0  3597.0  4200.0   \n",
      "books        777.0    549.380952   165.105360    96.0   470.0   500.0   \n",
      "personal     777.0   1340.642214   677.071454   250.0   850.0  1200.0   \n",
      "phd          777.0     72.660232    16.328155     8.0    62.0    75.0   \n",
      "terminal     777.0     79.702703    14.722359    24.0    71.0    82.0   \n",
      "s_f_ratio    777.0     14.089704     3.958349     2.5    11.5    13.6   \n",
      "perc_alumni  777.0     22.743887    12.391801     0.0    13.0    21.0   \n",
      "expend       777.0   9660.171171  5221.768440  3186.0  6751.0  8377.0   \n",
      "grad_rate    777.0     65.463320    17.177710    10.0    53.0    65.0   \n",
      "\n",
      "                 75%      max  \n",
      "apps          3624.0  48094.0  \n",
      "accept        2424.0  26330.0  \n",
      "enroll         902.0   6392.0  \n",
      "top10perc       35.0     96.0  \n",
      "top25perc       69.0    100.0  \n",
      "f_undergrad   4005.0  31643.0  \n",
      "p_undergrad    967.0  21836.0  \n",
      "outstate     12925.0  21700.0  \n",
      "room_board    5050.0   8124.0  \n",
      "books          600.0   2340.0  \n",
      "personal      1700.0   6800.0  \n",
      "phd             85.0    103.0  \n",
      "terminal        92.0    100.0  \n",
      "s_f_ratio       16.5     39.8  \n",
      "perc_alumni     31.0     64.0  \n",
      "expend       10830.0  56233.0  \n",
      "grad_rate       78.0    118.0  \n"
     ]
    }
   ],
   "source": [
    "print(data.describe().T)"
   ]
  },
  {
   "cell_type": "code",
   "execution_count": 8,
   "id": "07f12aeb",
   "metadata": {},
   "outputs": [
    {
     "name": "stdout",
     "output_type": "stream",
     "text": [
      "<class 'pandas.core.frame.DataFrame'>\n",
      "RangeIndex: 777 entries, 0 to 776\n",
      "Data columns (total 18 columns):\n",
      " #   Column       Non-Null Count  Dtype  \n",
      "---  ------       --------------  -----  \n",
      " 0   private      777 non-null    object \n",
      " 1   apps         777 non-null    int64  \n",
      " 2   accept       777 non-null    int64  \n",
      " 3   enroll       777 non-null    int64  \n",
      " 4   top10perc    777 non-null    int64  \n",
      " 5   top25perc    777 non-null    int64  \n",
      " 6   f_undergrad  777 non-null    int64  \n",
      " 7   p_undergrad  777 non-null    int64  \n",
      " 8   outstate     777 non-null    int64  \n",
      " 9   room_board   777 non-null    int64  \n",
      " 10  books        777 non-null    int64  \n",
      " 11  personal     777 non-null    int64  \n",
      " 12  phd          777 non-null    int64  \n",
      " 13  terminal     777 non-null    int64  \n",
      " 14  s_f_ratio    777 non-null    float64\n",
      " 15  perc_alumni  777 non-null    int64  \n",
      " 16  expend       777 non-null    int64  \n",
      " 17  grad_rate    777 non-null    int64  \n",
      "dtypes: float64(1), int64(16), object(1)\n",
      "memory usage: 109.4+ KB\n"
     ]
    }
   ],
   "source": [
    "data.info()"
   ]
  },
  {
   "cell_type": "markdown",
   "id": "979430b8",
   "metadata": {},
   "source": [
    "**C) scatterplot for two variables.**"
   ]
  },
  {
   "cell_type": "code",
   "execution_count": 6,
   "id": "5dd239ed",
   "metadata": {},
   "outputs": [
    {
     "data": {
      "text/plain": [
       "<AxesSubplot:xlabel='apps', ylabel='accept'>"
      ]
     },
     "execution_count": 6,
     "metadata": {},
     "output_type": "execute_result"
    },
    {
     "data": {
      "image/png": "[encoded data removed]",
      "text/plain": [
       "<Figure size 432x288 with 1 Axes>"
      ]
     },
     "metadata": {
      "needs_background": "light"
     },
     "output_type": "display_data"
    }
   ],
   "source": [
    "x='apps'\n",
    "y='accept'\n",
    "sns.scatterplot(x,y,data=data)"
   ]
  },
  {
   "cell_type": "markdown",
   "id": "9d0a5cf9",
   "metadata": {},
   "source": [
    "**There is positive linear relationship between apps and accept and 1 outlier is present their.**"
   ]
  },
  {
   "cell_type": "markdown",
   "id": "e5ee7309",
   "metadata": {},
   "source": [
    "**D) obtain side by side boxplot of outstate vs private?**"
   ]
  },
  {
   "cell_type": "code",
   "execution_count": 10,
   "id": "96d82e3e",
   "metadata": {},
   "outputs": [
    {
     "data": {
      "text/plain": [
       "<AxesSubplot:xlabel='outstate', ylabel='private'>"
      ]
     },
     "execution_count": 10,
     "metadata": {},
     "output_type": "execute_result"
    },
    {
     "data": {
      "image/png": "[encoded data removed]",
      "text/plain": [
       "<Figure size 432x288 with 1 Axes>"
      ]
     },
     "metadata": {
      "needs_background": "light"
     },
     "output_type": "display_data"
    }
   ],
   "source": [
    "sns.boxplot(x=data['outstate'],y=data['private'])\n"
   ]
  },
  {
   "cell_type": "markdown",
   "id": "ccbe53d5",
   "metadata": {},
   "source": [
    "**In the above boxplot there is private sector in which outliers present in yes/no indicator.**"
   ]
  },
  {
   "cell_type": "code",
   "execution_count": 7,
   "id": "c4adfed5",
   "metadata": {},
   "outputs": [
    {
     "ename": "SyntaxError",
     "evalue": "invalid syntax (Temp/ipykernel_9776/1515640531.py, line 2)",
     "output_type": "error",
     "traceback": [
      "\u001b[1;36m  File \u001b[1;32m\"C:\\Users\\one\\AppData\\Local\\Temp/ipykernel_9776/1515640531.py\"\u001b[1;36m, line \u001b[1;32m2\u001b[0m\n\u001b[1;33m    Elite(data['top10perc>50'])=\"yes\"\u001b[0m\n\u001b[1;37m    ^\u001b[0m\n\u001b[1;31mSyntaxError\u001b[0m\u001b[1;31m:\u001b[0m invalid syntax\n"
     ]
    }
   ],
   "source": [
    "\n",
    "Elite=rep(c('No',nrow(data))\n",
    "Elite(data['top10perc>50'])=\"yes\"\n",
    "Elite=(Elite)\n",
    "college=pd.DataFrame(data,Elite)"
   ]
  },
  {
   "cell_type": "markdown",
   "id": "9e709cc5",
   "metadata": {},
   "source": [
    "**E) Obtain The Histogram For Each Variable?**"
   ]
  },
  {
   "cell_type": "code",
   "execution_count": 21,
   "id": "0e097a92",
   "metadata": {},
   "outputs": [
    {
     "data": {
      "image/png": "[encoded data removed]",
      "text/plain": [
       "<Figure size 1080x1080 with 20 Axes>"
      ]
     },
     "metadata": {
      "needs_background": "light"
     },
     "output_type": "display_data"
    }
   ],
   "source": [
    "data.hist(figsize=(15,15))\n",
    "plt.show()\n"
   ]
  },
  {
   "cell_type": "markdown",
   "id": "b4322892",
   "metadata": {},
   "source": [
    "**Apps,accept,expend,f_undergrad,p_undergrad variable are positively skewed and top10perc,top25perc,outstat,room.board\n",
    ",grad_rate are normally distributed**"
   ]
  },
  {
   "cell_type": "markdown",
   "id": "86a833df",
   "metadata": {},
   "source": [
    "**F) Plot the violin graph.**"
   ]
  },
  {
   "cell_type": "code",
   "execution_count": 12,
   "id": "d247af99",
   "metadata": {},
   "outputs": [
    {
     "data": {
      "text/plain": [
       "<AxesSubplot:xlabel='private', ylabel='outstate'>"
      ]
     },
     "execution_count": 12,
     "metadata": {},
     "output_type": "execute_result"
    },
    {
     "data": {
      "image/png": "[encoded data removed]",
      "text/plain": [
       "<Figure size 432x288 with 1 Axes>"
      ]
     },
     "metadata": {
      "needs_background": "light"
     },
     "output_type": "display_data"
    }
   ],
   "source": [
    "sns.violinplot(x=data['private'],y=data['outstate'],data=data,color='blue')"
   ]
  },
  {
   "cell_type": "markdown",
   "id": "882ad2e7",
   "metadata": {},
   "source": [
    "**Violint plot gives distribution of one or several variables.The white dot represents median.\n",
    "The thick grey bar represents interquartile range.**"
   ]
  },
  {
   "cell_type": "code",
   "execution_count": 13,
   "id": "7d1fa522",
   "metadata": {},
   "outputs": [
    {
     "data": {
      "text/plain": [
       "<AxesSubplot:xlabel='private', ylabel='count'>"
      ]
     },
     "execution_count": 13,
     "metadata": {},
     "output_type": "execute_result"
    },
    {
     "data": {
      "image/png": "[encoded data removed]",
      "text/plain": [
       "<Figure size 432x288 with 1 Axes>"
      ]
     },
     "metadata": {
      "needs_background": "light"
     },
     "output_type": "display_data"
    }
   ],
   "source": [
    "sns.countplot(x=data['private'],data=data)   #For countplot."
   ]
  },
  {
   "cell_type": "markdown",
   "id": "06ed2023",
   "metadata": {},
   "source": [
    "**It gives barplot for the categorical variable. Most of students belongs to private sector.**"
   ]
  },
  {
   "cell_type": "markdown",
   "id": "658ec917",
   "metadata": {},
   "source": [
    "**G) What is the range of each quantitative predictor? You can answer using Range() function?**"
   ]
  },
  {
   "cell_type": "code",
   "execution_count": 9,
   "id": "91a46283",
   "metadata": {},
   "outputs": [
    {
     "data": {
      "text/plain": [
       "apps           48013.0\n",
       "accept         26258.0\n",
       "enroll          6357.0\n",
       "top10perc         95.0\n",
       "top25perc         91.0\n",
       "f_undergrad    31504.0\n",
       "p_undergrad    21835.0\n",
       "outstate       19360.0\n",
       "room_board      6344.0\n",
       "books           2244.0\n",
       "personal        6550.0\n",
       "phd               95.0\n",
       "terminal          76.0\n",
       "s_f_ratio         37.3\n",
       "perc_alumni       64.0\n",
       "expend         53047.0\n",
       "grad_rate        108.0\n",
       "dtype: float64"
      ]
     },
     "execution_count": 9,
     "metadata": {},
     "output_type": "execute_result"
    }
   ],
   "source": [
    "# Remove the private Column because it is Qualitative.\n",
    "Ran=data.drop(['private'], axis='columns')  \n",
    "Max=Ran.max()\n",
    "Min=Ran.min()\n",
    "Range=Max-Min\n",
    "Range      #This is the range of all qualitative data."
   ]
  },
  {
   "cell_type": "markdown",
   "id": "e4a545d3",
   "metadata": {},
   "source": [
    "**H) How many rows and colums  in the College data?**  \n",
    "There are 777 rows  and 17 colums in the given data."
   ]
  }
 ],
 "metadata": {
  "kernelspec": {
   "display_name": "Python 3 (ipykernel)",
   "language": "python",
   "name": "python3"
  },
  "language_info": {
   "codemirror_mode": {
    "name": "ipython",
    "version": 3
   },
   "file_extension": ".py",
   "mimetype": "text/x-python",
   "name": "python",
   "nbconvert_exporter": "python",
   "pygments_lexer": "ipython3",
   "version": "3.9.5"
  }
 },
 "nbformat": 4,
 "nbformat_minor": 5
}
