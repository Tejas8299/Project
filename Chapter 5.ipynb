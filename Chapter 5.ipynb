{
 "cells": [
  {
   "cell_type": "markdown",
   "id": "912471f7",
   "metadata": {},
   "source": [
    "# Linear Discriminant Analysis, Quadratic Discriminant Analysis, KNN and Logistics"
   ]
  },
  {
   "cell_type": "markdown",
   "id": "4ea90ca1",
   "metadata": {},
   "source": [
    "## Problem Statement\n",
    "\n",
    "#### Objective :\n"
   ]
  },
  {
   "cell_type": "markdown",
   "id": "136042f7",
   "metadata": {},
   "source": [
    "### Dataseet Information "
   ]
  },
  {
   "cell_type": "markdown",
   "id": "b5808d82",
   "metadata": {},
   "source": [
    "This datset is taken from An introduction to statistical learning.  \n",
    "Year : The year that the observation was recorded.  \n",
    "Lag1 : Percentage return for previous week.  \n",
    "Lag2 : Percentage return for 2 weeks previous.   \n",
    "Lag3 : Percentage return for 3 weeks previous.  \n",
    "Lag4 : Percentage return for 4 weeks previous.  \n",
    "Lag5 : Percentage return for 5 weeks previous.  \n",
    "Volume : Volume of Shares traded(average number of daily shares traded in billions).  \n",
    "Today :A factor with levels Down and Up indicating weather the market had positive or negative return on a given week. \n",
    "In our dataset 1089 rows and 9 columns."
   ]
  },
  {
   "cell_type": "markdown",
   "id": "b87c231f",
   "metadata": {},
   "source": [
    "### Importing the required libraries"
   ]
  },
  {
   "cell_type": "code",
   "execution_count": 1,
   "id": "413d28ad",
   "metadata": {},
   "outputs": [],
   "source": [
    "import numpy as np\n",
    "import pandas as pd\n",
    "import seaborn as sns\n",
    "import matplotlib.pyplot as plt\n",
    "from warnings import filterwarnings\n",
    "filterwarnings(\"ignore\")\n",
    "import sympy as sym    \n",
    "import scipy.stats as ss"
   ]
  },
  {
   "cell_type": "markdown",
   "id": "e622f366",
   "metadata": {},
   "source": [
    "### Importing the Dataset"
   ]
  },
  {
   "cell_type": "code",
   "execution_count": 2,
   "id": "871527e3",
   "metadata": {},
   "outputs": [
    {
     "data": {
      "text/html": [
       "<div>\n",
       "<style scoped>\n",
       "    .dataframe tbody tr th:only-of-type {\n",
       "        vertical-align: middle;\n",
       "    }\n",
       "\n",
       "    .dataframe tbody tr th {\n",
       "        vertical-align: top;\n",
       "    }\n",
       "\n",
       "    .dataframe thead th {\n",
       "        text-align: right;\n",
       "    }\n",
       "</style>\n",
       "<table border=\"1\" class=\"dataframe\">\n",
       "  <thead>\n",
       "    <tr style=\"text-align: right;\">\n",
       "      <th></th>\n",
       "      <th>Year</th>\n",
       "      <th>Lag1</th>\n",
       "      <th>Lag2</th>\n",
       "      <th>Lag3</th>\n",
       "      <th>Lag4</th>\n",
       "      <th>Lag5</th>\n",
       "      <th>Volume</th>\n",
       "      <th>Today</th>\n",
       "      <th>Direction</th>\n",
       "    </tr>\n",
       "  </thead>\n",
       "  <tbody>\n",
       "    <tr>\n",
       "      <th>0</th>\n",
       "      <td>1990</td>\n",
       "      <td>0.816</td>\n",
       "      <td>1.572</td>\n",
       "      <td>-3.936</td>\n",
       "      <td>-0.229</td>\n",
       "      <td>-3.484</td>\n",
       "      <td>0.154976</td>\n",
       "      <td>-0.270</td>\n",
       "      <td>Down</td>\n",
       "    </tr>\n",
       "    <tr>\n",
       "      <th>1</th>\n",
       "      <td>1990</td>\n",
       "      <td>-0.270</td>\n",
       "      <td>0.816</td>\n",
       "      <td>1.572</td>\n",
       "      <td>-3.936</td>\n",
       "      <td>-0.229</td>\n",
       "      <td>0.148574</td>\n",
       "      <td>-2.576</td>\n",
       "      <td>Down</td>\n",
       "    </tr>\n",
       "    <tr>\n",
       "      <th>2</th>\n",
       "      <td>1990</td>\n",
       "      <td>-2.576</td>\n",
       "      <td>-0.270</td>\n",
       "      <td>0.816</td>\n",
       "      <td>1.572</td>\n",
       "      <td>-3.936</td>\n",
       "      <td>0.159837</td>\n",
       "      <td>3.514</td>\n",
       "      <td>Up</td>\n",
       "    </tr>\n",
       "    <tr>\n",
       "      <th>3</th>\n",
       "      <td>1990</td>\n",
       "      <td>3.514</td>\n",
       "      <td>-2.576</td>\n",
       "      <td>-0.270</td>\n",
       "      <td>0.816</td>\n",
       "      <td>1.572</td>\n",
       "      <td>0.161630</td>\n",
       "      <td>0.712</td>\n",
       "      <td>Up</td>\n",
       "    </tr>\n",
       "    <tr>\n",
       "      <th>4</th>\n",
       "      <td>1990</td>\n",
       "      <td>0.712</td>\n",
       "      <td>3.514</td>\n",
       "      <td>-2.576</td>\n",
       "      <td>-0.270</td>\n",
       "      <td>0.816</td>\n",
       "      <td>0.153728</td>\n",
       "      <td>1.178</td>\n",
       "      <td>Up</td>\n",
       "    </tr>\n",
       "  </tbody>\n",
       "</table>\n",
       "</div>"
      ],
      "text/plain": [
       "   Year   Lag1   Lag2   Lag3   Lag4   Lag5    Volume  Today Direction\n",
       "0  1990  0.816  1.572 -3.936 -0.229 -3.484  0.154976 -0.270      Down\n",
       "1  1990 -0.270  0.816  1.572 -3.936 -0.229  0.148574 -2.576      Down\n",
       "2  1990 -2.576 -0.270  0.816  1.572 -3.936  0.159837  3.514        Up\n",
       "3  1990  3.514 -2.576 -0.270  0.816  1.572  0.161630  0.712        Up\n",
       "4  1990  0.712  3.514 -2.576 -0.270  0.816  0.153728  1.178        Up"
      ]
     },
     "execution_count": 2,
     "metadata": {},
     "output_type": "execute_result"
    }
   ],
   "source": [
    "\n",
    "weekly=pd.read_csv(\"weekly_data.csv\")\n",
    "weekly.head()"
   ]
  },
  {
   "cell_type": "code",
   "execution_count": 3,
   "id": "c8ff41dd",
   "metadata": {},
   "outputs": [
    {
     "data": {
      "text/html": [
       "<div>\n",
       "<style scoped>\n",
       "    .dataframe tbody tr th:only-of-type {\n",
       "        vertical-align: middle;\n",
       "    }\n",
       "\n",
       "    .dataframe tbody tr th {\n",
       "        vertical-align: top;\n",
       "    }\n",
       "\n",
       "    .dataframe thead th {\n",
       "        text-align: right;\n",
       "    }\n",
       "</style>\n",
       "<table border=\"1\" class=\"dataframe\">\n",
       "  <thead>\n",
       "    <tr style=\"text-align: right;\">\n",
       "      <th></th>\n",
       "      <th>Year</th>\n",
       "      <th>Lag1</th>\n",
       "      <th>Lag2</th>\n",
       "      <th>Lag3</th>\n",
       "      <th>Lag4</th>\n",
       "      <th>Lag5</th>\n",
       "      <th>Volume</th>\n",
       "      <th>Today</th>\n",
       "    </tr>\n",
       "  </thead>\n",
       "  <tbody>\n",
       "    <tr>\n",
       "      <th>Year</th>\n",
       "      <td>1.000000</td>\n",
       "      <td>-0.032289</td>\n",
       "      <td>-0.033390</td>\n",
       "      <td>-0.030006</td>\n",
       "      <td>-0.031128</td>\n",
       "      <td>-0.030519</td>\n",
       "      <td>0.841942</td>\n",
       "      <td>-0.032460</td>\n",
       "    </tr>\n",
       "    <tr>\n",
       "      <th>Lag1</th>\n",
       "      <td>-0.032289</td>\n",
       "      <td>1.000000</td>\n",
       "      <td>-0.074853</td>\n",
       "      <td>0.058636</td>\n",
       "      <td>-0.071274</td>\n",
       "      <td>-0.008183</td>\n",
       "      <td>-0.064951</td>\n",
       "      <td>-0.075032</td>\n",
       "    </tr>\n",
       "    <tr>\n",
       "      <th>Lag2</th>\n",
       "      <td>-0.033390</td>\n",
       "      <td>-0.074853</td>\n",
       "      <td>1.000000</td>\n",
       "      <td>-0.075721</td>\n",
       "      <td>0.058382</td>\n",
       "      <td>-0.072499</td>\n",
       "      <td>-0.085513</td>\n",
       "      <td>0.059167</td>\n",
       "    </tr>\n",
       "    <tr>\n",
       "      <th>Lag3</th>\n",
       "      <td>-0.030006</td>\n",
       "      <td>0.058636</td>\n",
       "      <td>-0.075721</td>\n",
       "      <td>1.000000</td>\n",
       "      <td>-0.075396</td>\n",
       "      <td>0.060657</td>\n",
       "      <td>-0.069288</td>\n",
       "      <td>-0.071244</td>\n",
       "    </tr>\n",
       "    <tr>\n",
       "      <th>Lag4</th>\n",
       "      <td>-0.031128</td>\n",
       "      <td>-0.071274</td>\n",
       "      <td>0.058382</td>\n",
       "      <td>-0.075396</td>\n",
       "      <td>1.000000</td>\n",
       "      <td>-0.075675</td>\n",
       "      <td>-0.061075</td>\n",
       "      <td>-0.007826</td>\n",
       "    </tr>\n",
       "    <tr>\n",
       "      <th>Lag5</th>\n",
       "      <td>-0.030519</td>\n",
       "      <td>-0.008183</td>\n",
       "      <td>-0.072499</td>\n",
       "      <td>0.060657</td>\n",
       "      <td>-0.075675</td>\n",
       "      <td>1.000000</td>\n",
       "      <td>-0.058517</td>\n",
       "      <td>0.011013</td>\n",
       "    </tr>\n",
       "    <tr>\n",
       "      <th>Volume</th>\n",
       "      <td>0.841942</td>\n",
       "      <td>-0.064951</td>\n",
       "      <td>-0.085513</td>\n",
       "      <td>-0.069288</td>\n",
       "      <td>-0.061075</td>\n",
       "      <td>-0.058517</td>\n",
       "      <td>1.000000</td>\n",
       "      <td>-0.033078</td>\n",
       "    </tr>\n",
       "    <tr>\n",
       "      <th>Today</th>\n",
       "      <td>-0.032460</td>\n",
       "      <td>-0.075032</td>\n",
       "      <td>0.059167</td>\n",
       "      <td>-0.071244</td>\n",
       "      <td>-0.007826</td>\n",
       "      <td>0.011013</td>\n",
       "      <td>-0.033078</td>\n",
       "      <td>1.000000</td>\n",
       "    </tr>\n",
       "  </tbody>\n",
       "</table>\n",
       "</div>"
      ],
      "text/plain": [
       "            Year      Lag1      Lag2      Lag3      Lag4      Lag5    Volume  \\\n",
       "Year    1.000000 -0.032289 -0.033390 -0.030006 -0.031128 -0.030519  0.841942   \n",
       "Lag1   -0.032289  1.000000 -0.074853  0.058636 -0.071274 -0.008183 -0.064951   \n",
       "Lag2   -0.033390 -0.074853  1.000000 -0.075721  0.058382 -0.072499 -0.085513   \n",
       "Lag3   -0.030006  0.058636 -0.075721  1.000000 -0.075396  0.060657 -0.069288   \n",
       "Lag4   -0.031128 -0.071274  0.058382 -0.075396  1.000000 -0.075675 -0.061075   \n",
       "Lag5   -0.030519 -0.008183 -0.072499  0.060657 -0.075675  1.000000 -0.058517   \n",
       "Volume  0.841942 -0.064951 -0.085513 -0.069288 -0.061075 -0.058517  1.000000   \n",
       "Today  -0.032460 -0.075032  0.059167 -0.071244 -0.007826  0.011013 -0.033078   \n",
       "\n",
       "           Today  \n",
       "Year   -0.032460  \n",
       "Lag1   -0.075032  \n",
       "Lag2    0.059167  \n",
       "Lag3   -0.071244  \n",
       "Lag4   -0.007826  \n",
       "Lag5    0.011013  \n",
       "Volume -0.033078  \n",
       "Today   1.000000  "
      ]
     },
     "execution_count": 3,
     "metadata": {},
     "output_type": "execute_result"
    }
   ],
   "source": [
    "weekly.corr(method='pearson')"
   ]
  },
  {
   "cell_type": "markdown",
   "id": "bab4b0f0",
   "metadata": {},
   "source": [
    "The correlation between the lag variable and today's return are close to zero.  \n",
    "and also the correlation between the lag variable and volume is close to zero.\n",
    "The only substantial correlation between year and volume. By plotting the data we see that volume is increasing over time.\n",
    "The average number of shares traded daily increased from 1990 to 2010."
   ]
  },
  {
   "cell_type": "code",
   "execution_count": 4,
   "id": "621e189f",
   "metadata": {},
   "outputs": [
    {
     "ename": "NameError",
     "evalue": "name 'y' is not defined",
     "output_type": "error",
     "traceback": [
      "\u001b[1;31m---------------------------------------------------------------------------\u001b[0m",
      "\u001b[1;31mNameError\u001b[0m                                 Traceback (most recent call last)",
      "\u001b[1;32m~\\AppData\\Local\\Temp/ipykernel_7028/1048474582.py\u001b[0m in \u001b[0;36m<module>\u001b[1;34m\u001b[0m\n\u001b[0;32m      1\u001b[0m \u001b[0mx_1\u001b[0m\u001b[1;33m=\u001b[0m\u001b[0mweekly\u001b[0m\u001b[1;33m[\u001b[0m\u001b[1;34m'Lag1'\u001b[0m\u001b[1;33m]\u001b[0m\u001b[1;33m\u001b[0m\u001b[1;33m\u001b[0m\u001b[0m\n\u001b[1;32m----> 2\u001b[1;33m \u001b[0mplt\u001b[0m\u001b[1;33m.\u001b[0m\u001b[0mscatter\u001b[0m\u001b[1;33m(\u001b[0m\u001b[0mx_1\u001b[0m\u001b[1;33m,\u001b[0m\u001b[0my\u001b[0m\u001b[1;33m,\u001b[0m \u001b[0mmarker\u001b[0m\u001b[1;33m=\u001b[0m\u001b[1;34m'+'\u001b[0m\u001b[1;33m,\u001b[0m\u001b[0mcolor\u001b[0m\u001b[1;33m=\u001b[0m\u001b[1;34m'red'\u001b[0m\u001b[1;33m)\u001b[0m\u001b[1;33m\u001b[0m\u001b[1;33m\u001b[0m\u001b[0m\n\u001b[0m\u001b[0;32m      3\u001b[0m \u001b[0mplt\u001b[0m\u001b[1;33m.\u001b[0m\u001b[0mtitle\u001b[0m\u001b[1;33m(\u001b[0m\u001b[1;34m'plot of Lag1'\u001b[0m\u001b[1;33m)\u001b[0m\u001b[1;33m\u001b[0m\u001b[1;33m\u001b[0m\u001b[0m\n\u001b[0;32m      4\u001b[0m \u001b[0mplt\u001b[0m\u001b[1;33m.\u001b[0m\u001b[0mshow\u001b[0m\u001b[1;33m(\u001b[0m\u001b[1;33m)\u001b[0m\u001b[1;33m\u001b[0m\u001b[1;33m\u001b[0m\u001b[0m\n",
      "\u001b[1;31mNameError\u001b[0m: name 'y' is not defined"
     ]
    }
   ],
   "source": [
    "x_1=weekly['Lag1']\n",
    "plt.scatter(x_1,y, marker='+',color='red')\n",
    "plt.title('plot of Lag1')\n",
    "plt.show()\n"
   ]
  },
  {
   "cell_type": "markdown",
   "id": "53f73a02",
   "metadata": {},
   "source": [
    "from the above graph, the different values of Lag1 corresponding Direction values are either up and down."
   ]
  },
  {
   "cell_type": "code",
   "execution_count": null,
   "id": "a73be2c2",
   "metadata": {},
   "outputs": [],
   "source": [
    "def categorizing(dat):\n",
    "    cat=dat.astype('category').cat.codes\n",
    "    return cat\n",
    "weekly['Direction']=categorizing(weekly['Direction'])    # We converted Down in 0 and Up in 1"
   ]
  },
  {
   "cell_type": "code",
   "execution_count": null,
   "id": "58539200",
   "metadata": {},
   "outputs": [],
   "source": [
    "x=weekly.drop(['Year','Direction','Today'],axis=1).values\n",
    "y=weekly['Direction']\n",
    "from sklearn.model_selection import train_test_split\n",
    "x_train,x_test,y_train,y_test=train_test_split(x,y,test_size=0.25,random_state=1)\n",
    "from sklearn.linear_model import LogisticRegression\n",
    "logmodel=LogisticRegression()\n",
    "logmodel.fit(x_train,y_train)\n",
    "y_pred=logmodel.predict(x_test)"
   ]
  },
  {
   "cell_type": "code",
   "execution_count": null,
   "id": "2a3afb54",
   "metadata": {},
   "outputs": [],
   "source": [
    "from sklearn.metrics import accuracy_score\n",
    "Accuracy_score=accuracy_score(y_test,y_pred)\n",
    "print(\"Accuracy_score: \"+\"{:.2f}\".format(Accuracy_score));"
   ]
  },
  {
   "cell_type": "code",
   "execution_count": null,
   "id": "c833a9fc",
   "metadata": {},
   "outputs": [],
   "source": [
    "import statsmodels.api as sm\n",
    "x_train_logit=sm.add_constant(x_train)\n",
    "log_reg=sm.Logit(y_train,x_train_logit).fit()\n",
    "print(log_reg.summary())"
   ]
  },
  {
   "cell_type": "markdown",
   "id": "b1ae4c81",
   "metadata": {},
   "source": [
    "Here we plot summary of Logistic regression.  \n",
    "Here is All p-value is greater than 0.05.There is no variables contributes significantly to the model.  \n",
    "The estimated logit is  \n",
    "$\\log\\left(\\frac{\\pi(x)}{1-\\pi(x)}\\right)$=0.2224-0.0341*Lag1+0.0333*Lag2-0.0187*Lag3-0.0186*Lag4-0.0282*Lag5+0.0067*Volume.\n",
    "\n",
    "Log-Likelihood - The natural logarithm of the MLE. MLE is the optimization process of finding the set of parameters.  \n",
    "LL-Null - The value of log-likelihood of the model when no independent variable is included.  \n",
    "Pseudo R-sq- It is the ratio of 1- log likelihood of the full model to that of the null model. Here is Pseudo R-sq is 0.003993\n",
    "is less then the model is not good.\n",
    "\n",
    "**Que-Do any of the predictors appear to be statistically significant?**  \n",
    "**Ans-There is none of the Predictor which is statistically significant.**  \n",
    "\n"
   ]
  },
  {
   "cell_type": "code",
   "execution_count": null,
   "id": "fd5c19ca",
   "metadata": {},
   "outputs": [],
   "source": [
    "from sklearn.metrics import confusion_matrix\n",
    "from sklearn.metrics import plot_confusion_matrix\n",
    "c_m=confusion_matrix(y_test,y_pred)\n",
    "c_m\n",
    "plot_confusion_matrix(logmodel,x_test,y_test,\n",
    "                     \n",
    "                     display_labels=[\"logistic(Down)\",\"logistic(Up)\"])"
   ]
  },
  {
   "cell_type": "markdown",
   "id": "a68c725e",
   "metadata": {},
   "source": [
    "The diagonal element of the confusion matrix indicate correct predictions, while the off-diagonal reprsent incorrect predictor \n",
    "Hence our model is correctly predicted that market would go up on 148 days and that it go down on 11 days ,\n",
    "for total 11+148=159,correct predictions and 114 are incorrect prediction."
   ]
  },
  {
   "cell_type": "markdown",
   "id": "cc7d27c2",
   "metadata": {},
   "source": [
    "**Odds Ratio**  \n",
    "from the above summary we got the coeffiecients but using this it is difficult to interpret the odd ratio, \n",
    "log odds is not intuitive in its interepretation.Lets convert this odds ratio and interepret the model again."
   ]
  },
  {
   "cell_type": "code",
   "execution_count": null,
   "id": "dfec6c3b",
   "metadata": {},
   "outputs": [],
   "source": [
    "model_odds=pd.DataFrame(np.exp(log_reg.params),columns=['Odds Ratio'])\n",
    "model_odds['z-values']=log_reg.pvalues\n",
    "model_odds"
   ]
  },
  {
   "cell_type": "markdown",
   "id": "2efaccc6",
   "metadata": {},
   "source": [
    "If the Lag1 is increases by one unit then Direction of market decreases by 4$\\%$.  \n",
    "If the Lag3 is increases by one unit then Direction of market decreases by 2$\\%$.  \n",
    "If the Lag4 is increases by one unit then the Direction of market is decreases by 2$\\%$.  \n",
    "If the Lag 5 is increases by one unit then the Direction of market is decreases by 3$\\%$.  \n",
    "There is no effect of increases or decreases in  Lag2 and Volume on Direction of the market. "
   ]
  },
  {
   "cell_type": "code",
   "execution_count": null,
   "id": "70482f48",
   "metadata": {},
   "outputs": [],
   "source": [
    "def categorizing(dat):\n",
    "    cat=dat.astype('category').cat.codes\n",
    "    return cat\n",
    "weekly['Direction']=categorizing(weekly['Direction'])    # We converted Down in 0 and Up in 1"
   ]
  },
  {
   "cell_type": "code",
   "execution_count": null,
   "id": "6da909b2",
   "metadata": {},
   "outputs": [],
   "source": [
    "from sklearn.discriminant_analysis import LinearDiscriminantAnalysis\n",
    "x_1 = weekly[['Lag1','Lag2']]\n",
    "y_1 = weekly[['Direction']]\n",
    "lda = LinearDiscriminantAnalysis()\n",
    "lda.fit(x_1, y_1)"
   ]
  },
  {
   "cell_type": "code",
   "execution_count": null,
   "id": "5dfd4592",
   "metadata": {},
   "outputs": [],
   "source": [
    "x_1_train=weekly[['Lag1','Lag2']]\n",
    "y_1_train=weekly[['Direction']]\n",
    "x_1_test=weekly[['Lag1','Lag2']]\n",
    "y_1_test=weekly[['Direction']]\n",
    "LDA_model=lda.fit(x_1_train,y_1_train)\n",
    "y_1_pred=lda.predict(x_1_test)\n",
    "print(LDA_model.priors_)      #Prior Probabilities of group."
   ]
  },
  {
   "cell_type": "markdown",
   "id": "6508abcb",
   "metadata": {},
   "source": [
    "LDA output indiacte that $\\pi_1$=0.444444 and $\\pi_2$=0.555555. In other words probability that 44.44 of the traning observation corrsponding \n",
    "to direction during which market went down. And probability 55.55 $\\%$ of the traning observation corrsponding to direction during \n",
    "which market went up."
   ]
  },
  {
   "cell_type": "code",
   "execution_count": null,
   "id": "20ef3efc",
   "metadata": {},
   "outputs": [],
   "source": [
    "print(LDA_model.means_)   #Group means"
   ]
  },
  {
   "cell_type": "markdown",
   "id": "17dbf3e3",
   "metadata": {},
   "source": [
    "The above are the group means,these are the average of each predictor within each class,and are used by LDA as estimate of $\\mu_k$ \n",
    ".These suggest that there is tendency for the previous 2 days return to be positive when the market increases"
   ]
  },
  {
   "cell_type": "code",
   "execution_count": null,
   "id": "174cf9b0",
   "metadata": {},
   "outputs": [],
   "source": [
    "print(LDA_model.coef_)   #coefficient of Discriminant function."
   ]
  },
  {
   "cell_type": "markdown",
   "id": "7012160c",
   "metadata": {},
   "source": [
    "The coeffiecient of linear discriminants output provide the linear combination of Lag1 and Lag2 that are used to form the Decision rule.\n",
    "\n",
    "If -0.03849002 Lag1+0.05955142 Lag2 will large. The LDA classifier will predict a market increses and if it is small ,then LDA classifier will predict a market down."
   ]
  },
  {
   "cell_type": "code",
   "execution_count": 9,
   "id": "784bda74",
   "metadata": {},
   "outputs": [
    {
     "ename": "NameError",
     "evalue": "name 'y_1_test' is not defined",
     "output_type": "error",
     "traceback": [
      "\u001b[1;31m---------------------------------------------------------------------------\u001b[0m",
      "\u001b[1;31mNameError\u001b[0m                                 Traceback (most recent call last)",
      "\u001b[1;32m<ipython-input-9-f6fea410821a>\u001b[0m in \u001b[0;36m<module>\u001b[1;34m\u001b[0m\n\u001b[0;32m      1\u001b[0m \u001b[1;32mfrom\u001b[0m \u001b[0msklearn\u001b[0m\u001b[1;33m.\u001b[0m\u001b[0mmetrics\u001b[0m \u001b[1;32mimport\u001b[0m \u001b[0mconfusion_matrix\u001b[0m\u001b[1;33m\u001b[0m\u001b[1;33m\u001b[0m\u001b[0m\n\u001b[1;32m----> 2\u001b[1;33m \u001b[0mmatrix\u001b[0m\u001b[1;33m=\u001b[0m\u001b[0mconfusion_matrix\u001b[0m\u001b[1;33m(\u001b[0m\u001b[0my_1_test\u001b[0m\u001b[1;33m,\u001b[0m\u001b[0my_1_pred\u001b[0m\u001b[1;33m)\u001b[0m\u001b[1;33m\u001b[0m\u001b[1;33m\u001b[0m\u001b[0m\n\u001b[0m\u001b[0;32m      3\u001b[0m \u001b[0mprint\u001b[0m\u001b[1;33m(\u001b[0m\u001b[0mmatrix\u001b[0m\u001b[1;33m)\u001b[0m\u001b[1;33m\u001b[0m\u001b[1;33m\u001b[0m\u001b[0m\n\u001b[0;32m      4\u001b[0m plot_confusion_matrix(lda,x_1_test,y_1_test,\n\u001b[0;32m      5\u001b[0m \u001b[1;33m\u001b[0m\u001b[0m\n",
      "\u001b[1;31mNameError\u001b[0m: name 'y_1_test' is not defined"
     ]
    }
   ],
   "source": [
    "\n",
    "from sklearn.metrics import confusion_matrix\n",
    "matrix=confusion_matrix(y_1_test,y_1_pred)\n",
    "print(matrix)\n",
    "plot_confusion_matrix(lda,x_1_test,y_1_test,\n",
    "                     \n",
    "                     display_labels=[\"LDA(Down)\",\"LDA(Up)\"])\n"
   ]
  },
  {
   "cell_type": "markdown",
   "id": "0afc58cd",
   "metadata": {},
   "source": [
    "The diagonal elemets are positively identified by the Direction. The market assigned 37 days to the \"Down\" class. and 568 days to the \"Up\" class."
   ]
  },
  {
   "cell_type": "code",
   "execution_count": null,
   "id": "d0bbd22b",
   "metadata": {},
   "outputs": [],
   "source": [
    "from sklearn.discriminant_analysis import QuadraticDiscriminantAnalysis\n",
    "qda = QuadraticDiscriminantAnalysis()\n",
    "qda.fit(x_1, y_1)\n",
    "y2_pred=qda.predict(x_1_test)\n",
    "model2=qda.fit(x_1_train,y_1_train)"
   ]
  },
  {
   "cell_type": "code",
   "execution_count": null,
   "id": "7761ef8c",
   "metadata": {},
   "outputs": [],
   "source": [
    "print(model2.priors_)\n",
    "print(model2.means_)"
   ]
  },
  {
   "cell_type": "markdown",
   "id": "69205795",
   "metadata": {},
   "source": [
    "The output contains the group means. But it does not contain te coefficients of the linear discriminants, because the QDA classifier involves a quadratic, rather than a linear, function of the predictors."
   ]
  },
  {
   "cell_type": "code",
   "execution_count": null,
   "id": "77248e9d",
   "metadata": {},
   "outputs": [],
   "source": [
    "from sklearn.metrics import confusion_matrix\n",
    "matrix=confusion_matrix(y_1_test,y2_pred)\n",
    "print(matrix)\n",
    "plot_confusion_matrix(qda,x_1_test,y_1_test,\n",
    "                     \n",
    "                     display_labels=[\"QDA(Down)\",\"QDA(Up)\"])"
   ]
  },
  {
   "cell_type": "code",
   "execution_count": null,
   "id": "86c6949a",
   "metadata": {},
   "outputs": [],
   "source": [
    "from sklearn.metrics import accuracy_score\n",
    "Accuracy_score=accuracy_score(y_1_test,y2_pred)\n",
    "print(\"Accuracy_score \"+\"{:.2f}\".format(Accuracy_score))     #Mean Accuracy"
   ]
  },
  {
   "cell_type": "markdown",
   "id": "f88b4675",
   "metadata": {},
   "source": [
    "The QDA predictions are accurate almost 55.37$\\%$, LDA prediction are accurate almost 55.55$\\%$ and logistic regression prediction score is 58.24$\\%$. Then we say that the logistic regression gives more accuracy than LDA and QDA, the level of accuracy is quite impressive for weekly dataset."
   ]
  },
  {
   "cell_type": "code",
   "execution_count": null,
   "id": "3217977a",
   "metadata": {},
   "outputs": [],
   "source": [
    "from sklearn.preprocessing import StandardScaler\n",
    "sc=StandardScaler()\n",
    "x_1_train_1=sc.fit_transform(x_1_train)\n",
    "x_1_test=sc.transform(x_1_test)\n",
    "from sklearn.neighbors import KNeighborsClassifier\n",
    "knn=KNeighborsClassifier(n_neighbors=1)\n",
    "knn.fit(x_1_train,y_1_train)"
   ]
  },
  {
   "cell_type": "code",
   "execution_count": null,
   "id": "0ea91546",
   "metadata": {},
   "outputs": [],
   "source": [
    "y_pred_knn=knn.predict(x_1_test)\n",
    "print(y_pred_knn)"
   ]
  },
  {
   "cell_type": "code",
   "execution_count": null,
   "id": "32f5b244",
   "metadata": {},
   "outputs": [],
   "source": [
    "from sklearn.metrics import confusion_matrix\n",
    "matrix=confusion_matrix(y_1_test,y_pred_knn)\n",
    "print(matrix)"
   ]
  },
  {
   "cell_type": "code",
   "execution_count": null,
   "id": "f311eeda",
   "metadata": {},
   "outputs": [],
   "source": [
    "plot_confusion_matrix(knn,x_1_test,y_1_test,\n",
    "                     \n",
    "                     display_labels=[\"KNN(Down)\",\"KNN(Up)\"])"
   ]
  },
  {
   "cell_type": "markdown",
   "id": "91069a2d",
   "metadata": {},
   "source": [
    "The result using k=1 are not very good.The diagonal elements are positively identified by class and tells us that the market goes on down by 219 days and the market increses by 343 days."
   ]
  },
  {
   "cell_type": "code",
   "execution_count": null,
   "id": "c45e03ef",
   "metadata": {},
   "outputs": [],
   "source": [
    "from sklearn.metrics import accuracy_score\n",
    "Accuracy_score=accuracy_score(y_1_test,y_pred_knn)\n",
    "print(\"Accuracy of the model is\",Accuracy_score)\n",
    "print(\"Error rate of model is\",(1-Accuracy_score))"
   ]
  },
  {
   "cell_type": "markdown",
   "id": "373ea111",
   "metadata": {},
   "source": [
    "We got Accuracy of the model is 51$\\%$.As we have increased the number of neighbors in the model.the accuracy got decreases but this is not necessray for each case."
   ]
  },
  {
   "cell_type": "code",
   "execution_count": null,
   "id": "d7b8a170",
   "metadata": {},
   "outputs": [],
   "source": [
    "# for k =2\n",
    "from sklearn.neighbors import KNeighborsClassifier\n",
    "knn1=KNeighborsClassifier(n_neighbors=2)\n",
    "knn1.fit(x_1_train,y_1_train)\n",
    "y_pred_knn1=knn1.predict(x_1_test)\n",
    "from sklearn.metrics import accuracy_score\n",
    "Accuracy_score=accuracy_score(y_1_test,y_pred_knn1)\n",
    "print(Accuracy_score)"
   ]
  },
  {
   "cell_type": "code",
   "execution_count": null,
   "id": "282317ea",
   "metadata": {},
   "outputs": [],
   "source": []
  },
  {
   "cell_type": "code",
   "execution_count": null,
   "id": "5d030ab6",
   "metadata": {},
   "outputs": [],
   "source": []
  }
 ],
 "metadata": {
  "kernelspec": {
   "display_name": "Python 3 (ipykernel)",
   "language": "python",
   "name": "python3"
  },
  "language_info": {
   "codemirror_mode": {
    "name": "ipython",
    "version": 3
   },
   "file_extension": ".py",
   "mimetype": "text/x-python",
   "name": "python",
   "nbconvert_exporter": "python",
   "pygments_lexer": "ipython3",
   "version": "3.9.5"
  }
 },
 "nbformat": 4,
 "nbformat_minor": 5
}
