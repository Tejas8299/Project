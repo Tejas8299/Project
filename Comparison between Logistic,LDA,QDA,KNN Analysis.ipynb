{
 "cells": [
  {
   "cell_type": "markdown",
   "id": "12c8a71b",
   "metadata": {},
   "source": [
    "### Problem Statement\n",
    "\n",
    "### Perform Analysis Using Logistic regression, LDA, QDA, KNN. and Comparison Between them.\n"
   ]
  },
  {
   "cell_type": "markdown",
   "id": "8db5eb34",
   "metadata": {},
   "source": [
    "**Logistic regression**\n",
    "- Logistic Regression is a machine learning classcification algorithm that is used to predict the probability of a categorical \n",
    "dependent variable.\n",
    "- In logistic regression, the dependent variable is binary variable that contains data coded as 1(yes,success)\n",
    "or 0(no,failure)\n",
    "- Logistic regression analysis is used to examine the association of (categorical or continuous) independent variable with\n",
    "one dichotomous dependent variable.\n",
    "- Odds ratio represents the constant effect of a pedictor X, on the likelihood that one outcome will occure. Odds ratios are \n",
    "used to compare the relative odds of the occurence of the outcome of interest"
   ]
  },
  {
   "cell_type": "code",
   "execution_count": null,
   "id": "0be3c544",
   "metadata": {},
   "outputs": [],
   "source": [
    "**Importing the libraries**"
   ]
  },
  {
   "cell_type": "code",
   "execution_count": 3,
   "id": "9608fbfe",
   "metadata": {},
   "outputs": [],
   "source": [
    "import numpy as np\n",
    "import pandas as pd\n",
    "import matplotlib.pyplot as plt\n",
    "import seaborn as sns\n"
   ]
  },
  {
   "cell_type": "code",
   "execution_count": 4,
   "id": "a1626880",
   "metadata": {},
   "outputs": [
    {
     "data": {
      "text/html": [
       "<div>\n",
       "<style scoped>\n",
       "    .dataframe tbody tr th:only-of-type {\n",
       "        vertical-align: middle;\n",
       "    }\n",
       "\n",
       "    .dataframe tbody tr th {\n",
       "        vertical-align: top;\n",
       "    }\n",
       "\n",
       "    .dataframe thead th {\n",
       "        text-align: right;\n",
       "    }\n",
       "</style>\n",
       "<table border=\"1\" class=\"dataframe\">\n",
       "  <thead>\n",
       "    <tr style=\"text-align: right;\">\n",
       "      <th></th>\n",
       "      <th>Year</th>\n",
       "      <th>Lag1</th>\n",
       "      <th>Lag2</th>\n",
       "      <th>Lag3</th>\n",
       "      <th>Lag4</th>\n",
       "      <th>Lag5</th>\n",
       "      <th>Volume</th>\n",
       "      <th>Today</th>\n",
       "      <th>Direction</th>\n",
       "    </tr>\n",
       "  </thead>\n",
       "  <tbody>\n",
       "    <tr>\n",
       "      <th>0</th>\n",
       "      <td>1990</td>\n",
       "      <td>0.816</td>\n",
       "      <td>1.572</td>\n",
       "      <td>-3.936</td>\n",
       "      <td>-0.229</td>\n",
       "      <td>-3.484</td>\n",
       "      <td>0.154976</td>\n",
       "      <td>-0.270</td>\n",
       "      <td>Down</td>\n",
       "    </tr>\n",
       "    <tr>\n",
       "      <th>1</th>\n",
       "      <td>1990</td>\n",
       "      <td>-0.270</td>\n",
       "      <td>0.816</td>\n",
       "      <td>1.572</td>\n",
       "      <td>-3.936</td>\n",
       "      <td>-0.229</td>\n",
       "      <td>0.148574</td>\n",
       "      <td>-2.576</td>\n",
       "      <td>Down</td>\n",
       "    </tr>\n",
       "    <tr>\n",
       "      <th>2</th>\n",
       "      <td>1990</td>\n",
       "      <td>-2.576</td>\n",
       "      <td>-0.270</td>\n",
       "      <td>0.816</td>\n",
       "      <td>1.572</td>\n",
       "      <td>-3.936</td>\n",
       "      <td>0.159837</td>\n",
       "      <td>3.514</td>\n",
       "      <td>Up</td>\n",
       "    </tr>\n",
       "    <tr>\n",
       "      <th>3</th>\n",
       "      <td>1990</td>\n",
       "      <td>3.514</td>\n",
       "      <td>-2.576</td>\n",
       "      <td>-0.270</td>\n",
       "      <td>0.816</td>\n",
       "      <td>1.572</td>\n",
       "      <td>0.161630</td>\n",
       "      <td>0.712</td>\n",
       "      <td>Up</td>\n",
       "    </tr>\n",
       "    <tr>\n",
       "      <th>4</th>\n",
       "      <td>1990</td>\n",
       "      <td>0.712</td>\n",
       "      <td>3.514</td>\n",
       "      <td>-2.576</td>\n",
       "      <td>-0.270</td>\n",
       "      <td>0.816</td>\n",
       "      <td>0.153728</td>\n",
       "      <td>1.178</td>\n",
       "      <td>Up</td>\n",
       "    </tr>\n",
       "  </tbody>\n",
       "</table>\n",
       "</div>"
      ],
      "text/plain": [
       "   Year   Lag1   Lag2   Lag3   Lag4   Lag5    Volume  Today Direction\n",
       "0  1990  0.816  1.572 -3.936 -0.229 -3.484  0.154976 -0.270      Down\n",
       "1  1990 -0.270  0.816  1.572 -3.936 -0.229  0.148574 -2.576      Down\n",
       "2  1990 -2.576 -0.270  0.816  1.572 -3.936  0.159837  3.514        Up\n",
       "3  1990  3.514 -2.576 -0.270  0.816  1.572  0.161630  0.712        Up\n",
       "4  1990  0.712  3.514 -2.576 -0.270  0.816  0.153728  1.178        Up"
      ]
     },
     "execution_count": 4,
     "metadata": {},
     "output_type": "execute_result"
    }
   ],
   "source": [
    "weekly=pd.read_csv(\"weekly_data.csv\")\n",
    "weekly.head()"
   ]
  },
  {
   "cell_type": "markdown",
   "id": "fa4d3bb7",
   "metadata": {},
   "source": [
    "- Year : The year that the observation was recorded.\n",
    "    \n",
    "- Lag1 : Percentage return for previous week.\n",
    "\n",
    "- Lag2 : Percentage return for 2 weeks previous.\n",
    "\n",
    "- Lag3 : Percentage return for 3 weeks previous.\n",
    "\n",
    "- Lag4 : Percentage return for 4 weeks previous.\n",
    "\n",
    "- Lag5 : Percentage return for 5 weeks previous.\n",
    "\n",
    "- Volume : Volume of Shares traded(average number of daily shares traded in billions.)\n",
    "\n",
    "- Today :A factor with levels Down and Up indicating weather the market had positive or negative return on a given week.\n",
    "**In our dataset 1089 rows and 9 columns.**"
   ]
  },
  {
   "cell_type": "markdown",
   "id": "719786d8",
   "metadata": {},
   "source": [
    "**a) : Produce Some numerical and graphical Summaries of the weekly data.**"
   ]
  },
  {
   "cell_type": "code",
   "execution_count": 3,
   "id": "ea79fc3f",
   "metadata": {},
   "outputs": [
    {
     "data": {
      "image/png": "[encoded data removed]",
      "text/plain": [
       "<Figure size 432x288 with 1 Axes>"
      ]
     },
     "metadata": {
      "needs_background": "light"
     },
     "output_type": "display_data"
    }
   ],
   "source": [
    "weekly['Volume'].plot()\n",
    "plt.show()"
   ]
  },
  {
   "cell_type": "code",
   "execution_count": 4,
   "id": "dbdf8a37",
   "metadata": {},
   "outputs": [
    {
     "data": {
      "text/html": [
       "<div>\n",
       "<style scoped>\n",
       "    .dataframe tbody tr th:only-of-type {\n",
       "        vertical-align: middle;\n",
       "    }\n",
       "\n",
       "    .dataframe tbody tr th {\n",
       "        vertical-align: top;\n",
       "    }\n",
       "\n",
       "    .dataframe thead th {\n",
       "        text-align: right;\n",
       "    }\n",
       "</style>\n",
       "<table border=\"1\" class=\"dataframe\">\n",
       "  <thead>\n",
       "    <tr style=\"text-align: right;\">\n",
       "      <th></th>\n",
       "      <th>Year</th>\n",
       "      <th>Lag1</th>\n",
       "      <th>Lag2</th>\n",
       "      <th>Lag3</th>\n",
       "      <th>Lag4</th>\n",
       "      <th>Lag5</th>\n",
       "      <th>Volume</th>\n",
       "      <th>Today</th>\n",
       "    </tr>\n",
       "  </thead>\n",
       "  <tbody>\n",
       "    <tr>\n",
       "      <th>count</th>\n",
       "      <td>1089.000000</td>\n",
       "      <td>1089.000000</td>\n",
       "      <td>1089.000000</td>\n",
       "      <td>1089.000000</td>\n",
       "      <td>1089.000000</td>\n",
       "      <td>1089.000000</td>\n",
       "      <td>1089.000000</td>\n",
       "      <td>1089.000000</td>\n",
       "    </tr>\n",
       "    <tr>\n",
       "      <th>mean</th>\n",
       "      <td>2000.048669</td>\n",
       "      <td>0.150585</td>\n",
       "      <td>0.151079</td>\n",
       "      <td>0.147205</td>\n",
       "      <td>0.145818</td>\n",
       "      <td>0.139893</td>\n",
       "      <td>1.574618</td>\n",
       "      <td>0.149899</td>\n",
       "    </tr>\n",
       "    <tr>\n",
       "      <th>std</th>\n",
       "      <td>6.033182</td>\n",
       "      <td>2.357013</td>\n",
       "      <td>2.357254</td>\n",
       "      <td>2.360502</td>\n",
       "      <td>2.360279</td>\n",
       "      <td>2.361285</td>\n",
       "      <td>1.686636</td>\n",
       "      <td>2.356927</td>\n",
       "    </tr>\n",
       "    <tr>\n",
       "      <th>min</th>\n",
       "      <td>1990.000000</td>\n",
       "      <td>-18.195000</td>\n",
       "      <td>-18.195000</td>\n",
       "      <td>-18.195000</td>\n",
       "      <td>-18.195000</td>\n",
       "      <td>-18.195000</td>\n",
       "      <td>0.087465</td>\n",
       "      <td>-18.195000</td>\n",
       "    </tr>\n",
       "    <tr>\n",
       "      <th>25%</th>\n",
       "      <td>1995.000000</td>\n",
       "      <td>-1.154000</td>\n",
       "      <td>-1.154000</td>\n",
       "      <td>-1.158000</td>\n",
       "      <td>-1.158000</td>\n",
       "      <td>-1.166000</td>\n",
       "      <td>0.332022</td>\n",
       "      <td>-1.154000</td>\n",
       "    </tr>\n",
       "    <tr>\n",
       "      <th>50%</th>\n",
       "      <td>2000.000000</td>\n",
       "      <td>0.241000</td>\n",
       "      <td>0.241000</td>\n",
       "      <td>0.241000</td>\n",
       "      <td>0.238000</td>\n",
       "      <td>0.234000</td>\n",
       "      <td>1.002680</td>\n",
       "      <td>0.241000</td>\n",
       "    </tr>\n",
       "    <tr>\n",
       "      <th>75%</th>\n",
       "      <td>2005.000000</td>\n",
       "      <td>1.405000</td>\n",
       "      <td>1.409000</td>\n",
       "      <td>1.409000</td>\n",
       "      <td>1.409000</td>\n",
       "      <td>1.405000</td>\n",
       "      <td>2.053727</td>\n",
       "      <td>1.405000</td>\n",
       "    </tr>\n",
       "    <tr>\n",
       "      <th>max</th>\n",
       "      <td>2010.000000</td>\n",
       "      <td>12.026000</td>\n",
       "      <td>12.026000</td>\n",
       "      <td>12.026000</td>\n",
       "      <td>12.026000</td>\n",
       "      <td>12.026000</td>\n",
       "      <td>9.328214</td>\n",
       "      <td>12.026000</td>\n",
       "    </tr>\n",
       "  </tbody>\n",
       "</table>\n",
       "</div>"
      ],
      "text/plain": [
       "              Year         Lag1         Lag2         Lag3         Lag4  \\\n",
       "count  1089.000000  1089.000000  1089.000000  1089.000000  1089.000000   \n",
       "mean   2000.048669     0.150585     0.151079     0.147205     0.145818   \n",
       "std       6.033182     2.357013     2.357254     2.360502     2.360279   \n",
       "min    1990.000000   -18.195000   -18.195000   -18.195000   -18.195000   \n",
       "25%    1995.000000    -1.154000    -1.154000    -1.158000    -1.158000   \n",
       "50%    2000.000000     0.241000     0.241000     0.241000     0.238000   \n",
       "75%    2005.000000     1.405000     1.409000     1.409000     1.409000   \n",
       "max    2010.000000    12.026000    12.026000    12.026000    12.026000   \n",
       "\n",
       "              Lag5       Volume        Today  \n",
       "count  1089.000000  1089.000000  1089.000000  \n",
       "mean      0.139893     1.574618     0.149899  \n",
       "std       2.361285     1.686636     2.356927  \n",
       "min     -18.195000     0.087465   -18.195000  \n",
       "25%      -1.166000     0.332022    -1.154000  \n",
       "50%       0.234000     1.002680     0.241000  \n",
       "75%       1.405000     2.053727     1.405000  \n",
       "max      12.026000     9.328214    12.026000  "
      ]
     },
     "execution_count": 4,
     "metadata": {},
     "output_type": "execute_result"
    }
   ],
   "source": [
    "weekly.describe()   # It gives the Summary of the weekly data."
   ]
  },
  {
   "cell_type": "code",
   "execution_count": 5,
   "id": "4904a2da",
   "metadata": {},
   "outputs": [
    {
     "data": {
      "text/html": [
       "<div>\n",
       "<style scoped>\n",
       "    .dataframe tbody tr th:only-of-type {\n",
       "        vertical-align: middle;\n",
       "    }\n",
       "\n",
       "    .dataframe tbody tr th {\n",
       "        vertical-align: top;\n",
       "    }\n",
       "\n",
       "    .dataframe thead th {\n",
       "        text-align: right;\n",
       "    }\n",
       "</style>\n",
       "<table border=\"1\" class=\"dataframe\">\n",
       "  <thead>\n",
       "    <tr style=\"text-align: right;\">\n",
       "      <th></th>\n",
       "      <th>Year</th>\n",
       "      <th>Lag1</th>\n",
       "      <th>Lag2</th>\n",
       "      <th>Lag3</th>\n",
       "      <th>Lag4</th>\n",
       "      <th>Lag5</th>\n",
       "      <th>Volume</th>\n",
       "      <th>Today</th>\n",
       "    </tr>\n",
       "  </thead>\n",
       "  <tbody>\n",
       "    <tr>\n",
       "      <th>Year</th>\n",
       "      <td>1.000000</td>\n",
       "      <td>-0.032289</td>\n",
       "      <td>-0.033390</td>\n",
       "      <td>-0.030006</td>\n",
       "      <td>-0.031128</td>\n",
       "      <td>-0.030519</td>\n",
       "      <td>0.841942</td>\n",
       "      <td>-0.032460</td>\n",
       "    </tr>\n",
       "    <tr>\n",
       "      <th>Lag1</th>\n",
       "      <td>-0.032289</td>\n",
       "      <td>1.000000</td>\n",
       "      <td>-0.074853</td>\n",
       "      <td>0.058636</td>\n",
       "      <td>-0.071274</td>\n",
       "      <td>-0.008183</td>\n",
       "      <td>-0.064951</td>\n",
       "      <td>-0.075032</td>\n",
       "    </tr>\n",
       "    <tr>\n",
       "      <th>Lag2</th>\n",
       "      <td>-0.033390</td>\n",
       "      <td>-0.074853</td>\n",
       "      <td>1.000000</td>\n",
       "      <td>-0.075721</td>\n",
       "      <td>0.058382</td>\n",
       "      <td>-0.072499</td>\n",
       "      <td>-0.085513</td>\n",
       "      <td>0.059167</td>\n",
       "    </tr>\n",
       "    <tr>\n",
       "      <th>Lag3</th>\n",
       "      <td>-0.030006</td>\n",
       "      <td>0.058636</td>\n",
       "      <td>-0.075721</td>\n",
       "      <td>1.000000</td>\n",
       "      <td>-0.075396</td>\n",
       "      <td>0.060657</td>\n",
       "      <td>-0.069288</td>\n",
       "      <td>-0.071244</td>\n",
       "    </tr>\n",
       "    <tr>\n",
       "      <th>Lag4</th>\n",
       "      <td>-0.031128</td>\n",
       "      <td>-0.071274</td>\n",
       "      <td>0.058382</td>\n",
       "      <td>-0.075396</td>\n",
       "      <td>1.000000</td>\n",
       "      <td>-0.075675</td>\n",
       "      <td>-0.061075</td>\n",
       "      <td>-0.007826</td>\n",
       "    </tr>\n",
       "    <tr>\n",
       "      <th>Lag5</th>\n",
       "      <td>-0.030519</td>\n",
       "      <td>-0.008183</td>\n",
       "      <td>-0.072499</td>\n",
       "      <td>0.060657</td>\n",
       "      <td>-0.075675</td>\n",
       "      <td>1.000000</td>\n",
       "      <td>-0.058517</td>\n",
       "      <td>0.011013</td>\n",
       "    </tr>\n",
       "    <tr>\n",
       "      <th>Volume</th>\n",
       "      <td>0.841942</td>\n",
       "      <td>-0.064951</td>\n",
       "      <td>-0.085513</td>\n",
       "      <td>-0.069288</td>\n",
       "      <td>-0.061075</td>\n",
       "      <td>-0.058517</td>\n",
       "      <td>1.000000</td>\n",
       "      <td>-0.033078</td>\n",
       "    </tr>\n",
       "    <tr>\n",
       "      <th>Today</th>\n",
       "      <td>-0.032460</td>\n",
       "      <td>-0.075032</td>\n",
       "      <td>0.059167</td>\n",
       "      <td>-0.071244</td>\n",
       "      <td>-0.007826</td>\n",
       "      <td>0.011013</td>\n",
       "      <td>-0.033078</td>\n",
       "      <td>1.000000</td>\n",
       "    </tr>\n",
       "  </tbody>\n",
       "</table>\n",
       "</div>"
      ],
      "text/plain": [
       "            Year      Lag1      Lag2      Lag3      Lag4      Lag5    Volume  \\\n",
       "Year    1.000000 -0.032289 -0.033390 -0.030006 -0.031128 -0.030519  0.841942   \n",
       "Lag1   -0.032289  1.000000 -0.074853  0.058636 -0.071274 -0.008183 -0.064951   \n",
       "Lag2   -0.033390 -0.074853  1.000000 -0.075721  0.058382 -0.072499 -0.085513   \n",
       "Lag3   -0.030006  0.058636 -0.075721  1.000000 -0.075396  0.060657 -0.069288   \n",
       "Lag4   -0.031128 -0.071274  0.058382 -0.075396  1.000000 -0.075675 -0.061075   \n",
       "Lag5   -0.030519 -0.008183 -0.072499  0.060657 -0.075675  1.000000 -0.058517   \n",
       "Volume  0.841942 -0.064951 -0.085513 -0.069288 -0.061075 -0.058517  1.000000   \n",
       "Today  -0.032460 -0.075032  0.059167 -0.071244 -0.007826  0.011013 -0.033078   \n",
       "\n",
       "           Today  \n",
       "Year   -0.032460  \n",
       "Lag1   -0.075032  \n",
       "Lag2    0.059167  \n",
       "Lag3   -0.071244  \n",
       "Lag4   -0.007826  \n",
       "Lag5    0.011013  \n",
       "Volume -0.033078  \n",
       "Today   1.000000  "
      ]
     },
     "execution_count": 5,
     "metadata": {},
     "output_type": "execute_result"
    }
   ],
   "source": [
    "weekly.corr(method='pearson')"
   ]
  },
  {
   "cell_type": "markdown",
   "id": "3ba078a9",
   "metadata": {},
   "source": [
    "**The correlation between the lag variable and today's return are close to zero. and also the correlation between the lag \n",
    "variable and voulume is close to zero**\n",
    "\n",
    "**The only substantial correlation between year and volume. by plotting the data we see that volume is increasing over time.**\n",
    "\n",
    "**The average number of shares traded daily increased from 1990 to 2010**"
   ]
  },
  {
   "cell_type": "code",
   "execution_count": 7,
   "id": "9d2fd190",
   "metadata": {},
   "outputs": [
    {
     "name": "stdout",
     "output_type": "stream",
     "text": [
      "The Autocorrelation plot for the data\n"
     ]
    },
    {
     "data": {
      "image/png": "[encoded data removed]",
      "text/plain": [
       "<Figure size 432x288 with 1 Axes>"
      ]
     },
     "metadata": {
      "needs_background": "light"
     },
     "output_type": "display_data"
    }
   ],
   "source": [
    "data=weekly['Lag2']\n",
    "plt.title('Autocorrelation Plot')\n",
    "plt.xlabel('Lags')\n",
    "plt.acorr(data,maxlags=10)\n",
    "print('The Autocorrelation plot for the data')\n",
    "plt.grid(True)\n",
    "plt.show()"
   ]
  },
  {
   "cell_type": "markdown",
   "id": "6bd01cde",
   "metadata": {},
   "source": [
    "**Autocorrelation graph is used to check the randomness in the dataset. It is the graph of Lag2 variable.\n",
    "Here we see that no randomness in the Lag2 variable.**"
   ]
  },
  {
   "cell_type": "markdown",
   "id": "1669759f",
   "metadata": {},
   "source": [
    "**Scatterplot of Logistic Regression**"
   ]
  },
  {
   "cell_type": "code",
   "execution_count": 92,
   "id": "70887d5f",
   "metadata": {},
   "outputs": [
    {
     "data": {
      "image/png": "[encoded data removed]",
      "text/plain": [
       "<Figure size 432x288 with 1 Axes>"
      ]
     },
     "metadata": {
      "needs_background": "light"
     },
     "output_type": "display_data"
    }
   ],
   "source": [
    "x_1=weekly['Lag1']\n",
    "plt.scatter(x_1,y, marker='+',color='red')\n",
    "plt.title('Scatter plot of Logistic Regression')\n",
    "plt.show()"
   ]
  },
  {
   "cell_type": "markdown",
   "id": "5f9fd971",
   "metadata": {},
   "source": [
    "**This is the Scatterplot between Direction and Lag1 there is sick regression data so we can't actually fit linear regression\n",
    "line so here use logistic regression**\n"
   ]
  },
  {
   "cell_type": "markdown",
   "id": "852f31e6",
   "metadata": {},
   "source": [
    "**Converting Direction Variable into numeric**"
   ]
  },
  {
   "cell_type": "code",
   "execution_count": 36,
   "id": "03d19d00",
   "metadata": {},
   "outputs": [],
   "source": [
    "def categorizing(dat):\n",
    "    cat=dat.astype('category').cat.codes\n",
    "    return cat\n",
    "weekly['Direction']=categorizing(weekly['Direction'])    # We converted Down in 0 and Up in 1"
   ]
  },
  {
   "cell_type": "markdown",
   "id": "1f87cf8b",
   "metadata": {},
   "source": [
    "**b) Use the full data set to perform logistic regression with direction as the response and five lag variables plus volume\n",
    "as predictors. Use the summary function to print the results.**"
   ]
  },
  {
   "cell_type": "code",
   "execution_count": 37,
   "id": "06dc8ed4",
   "metadata": {},
   "outputs": [],
   "source": [
    "x=weekly.drop(['Year','Direction','Today'],axis=1).values\n",
    "y=weekly['Direction']"
   ]
  },
  {
   "cell_type": "code",
   "execution_count": 38,
   "id": "f10865a4",
   "metadata": {},
   "outputs": [],
   "source": [
    "from sklearn.model_selection import train_test_split\n",
    "x_train,x_test,y_train,y_test=train_test_split(x,y,test_size=0.25,random_state=1)\n"
   ]
  },
  {
   "cell_type": "code",
   "execution_count": 39,
   "id": "5fcdbb85",
   "metadata": {},
   "outputs": [],
   "source": [
    "from sklearn.linear_model import LogisticRegression\n",
    "logmodel=LogisticRegression()\n",
    "logmodel.fit(x_train,y_train)\n",
    "y_pred=logmodel.predict(x_test)\n",
    "#print(y_pred)"
   ]
  },
  {
   "cell_type": "code",
   "execution_count": null,
   "id": "24af3818",
   "metadata": {},
   "outputs": [],
   "source": [
    "from sklearn.metrics import accuracy_score\n",
    "Accuracy_score=accuracy_score(y_test,y_pred)\n",
    "print(Accuracy_score)"
   ]
  },
  {
   "cell_type": "markdown",
   "id": "a4b882aa",
   "metadata": {},
   "source": [
    "**For printing summary of Logistic Regression**"
   ]
  },
  {
   "cell_type": "code",
   "execution_count": 40,
   "id": "dc2dfdce",
   "metadata": {},
   "outputs": [
    {
     "name": "stdout",
     "output_type": "stream",
     "text": [
      "Optimization terminated successfully.\n",
      "         Current function value: 0.684309\n",
      "         Iterations 4\n",
      "                           Logit Regression Results                           \n",
      "==============================================================================\n",
      "Dep. Variable:              Direction   No. Observations:                  816\n",
      "Model:                          Logit   Df Residuals:                      809\n",
      "Method:                           MLE   Df Model:                            6\n",
      "Date:                Sat, 09 Apr 2022   Pseudo R-squ.:                0.003993\n",
      "Time:                        08:53:11   Log-Likelihood:                -558.40\n",
      "converged:                       True   LL-Null:                       -560.63\n",
      "Covariance Type:            nonrobust   LLR p-value:                    0.6124\n",
      "==============================================================================\n",
      "                 coef    std err          z      P>|z|      [0.025      0.975]\n",
      "------------------------------------------------------------------------------\n",
      "const          0.2224      0.100      2.234      0.025       0.027       0.418\n",
      "x1            -0.0341      0.031     -1.097      0.273      -0.095       0.027\n",
      "x2             0.0333      0.031      1.089      0.276      -0.027       0.093\n",
      "x3            -0.0187      0.030     -0.614      0.539      -0.078       0.041\n",
      "x4            -0.0186      0.030     -0.618      0.536      -0.078       0.040\n",
      "x5            -0.0282      0.030     -0.944      0.345      -0.087       0.030\n",
      "x6             0.0067      0.043      0.155      0.876      -0.078       0.091\n",
      "==============================================================================\n"
     ]
    }
   ],
   "source": [
    "import statsmodels.api as sm\n",
    "x_train_logit=sm.add_constant(x_train)\n",
    "log_reg=sm.Logit(y_train,x_train_logit).fit()\n",
    "print(log_reg.summary())"
   ]
  },
  {
   "cell_type": "markdown",
   "id": "476d45c6",
   "metadata": {},
   "source": [
    "**Here we plot summary of Logistic regression** \n",
    "\n",
    "**Log-Likelihood - The natural logarithm of the MLE. MLE is the optimization process of finding the set of parameters.**\n",
    "\n",
    "**LL-Null - The value of log-likelihood of the model when no independent variable is included.**\n",
    "\n",
    "**Pseudo R-sq- It is the ratio of log likelihood of the null model to that of the full model.**\n",
    "\n",
    "**Que-Do any of the predictors appear to be statistically significant ?**\n",
    "\n",
    " **Ans-There is none of the Predictor which is statistically significant** "
   ]
  },
  {
   "cell_type": "markdown",
   "id": "5d03d75a",
   "metadata": {},
   "source": [
    "**Compute Confusion-Matrix and overall fraction of correct predictors**\n"
   ]
  },
  {
   "cell_type": "code",
   "execution_count": 69,
   "id": "c8f0d001",
   "metadata": {},
   "outputs": [
    {
     "data": {
      "text/plain": [
       "<sklearn.metrics._plot.confusion_matrix.ConfusionMatrixDisplay at 0x2157787eac0>"
      ]
     },
     "execution_count": 69,
     "metadata": {},
     "output_type": "execute_result"
    },
    {
     "data": {
      "image/png": "[encoded data removed]",
      "text/plain": [
       "<Figure size 432x288 with 2 Axes>"
      ]
     },
     "metadata": {
      "needs_background": "light"
     },
     "output_type": "display_data"
    }
   ],
   "source": [
    "from sklearn.metrics import confusion_matrix\n",
    "c_m=confusion_matrix(y_test,y_pred)\n",
    "c_m\n",
    "plot_confusion_matrix(logmodel,x_test,y_test,\n",
    "                     \n",
    "                     display_labels=[\"logistic(Down)\",\"logistic(Up)\"])"
   ]
  },
  {
   "cell_type": "markdown",
   "id": "34fef9dd",
   "metadata": {},
   "source": [
    "**The diagonal element of the confusion matrix indicate correct predictions, while the off-diagonal reprsent incorrect predictor\n",
    "Hence our model is correctly predicted that market would go up on 148 days and that it go down on 11 days , for total \n",
    "11+148=159,correct predictions and 114 are incorrect prediction**"
   ]
  },
  {
   "cell_type": "markdown",
   "id": "ed16ac21",
   "metadata": {},
   "source": [
    "**Odds Ratio **"
   ]
  },
  {
   "cell_type": "markdown",
   "id": "21ab6b4b",
   "metadata": {},
   "source": [
    "**Odds Ratio interepretation- from the above summary we got the coeffiecients but using this it is difficult to interpret the \n",
    "odd ratio, but log odds is not intuitive in its interepretation.Lets convert this odds ratio and interepret the model again**"
   ]
  },
  {
   "cell_type": "code",
   "execution_count": 70,
   "id": "86f2a586",
   "metadata": {
    "scrolled": true
   },
   "outputs": [
    {
     "data": {
      "text/html": [
       "<div>\n",
       "<style scoped>\n",
       "    .dataframe tbody tr th:only-of-type {\n",
       "        vertical-align: middle;\n",
       "    }\n",
       "\n",
       "    .dataframe tbody tr th {\n",
       "        vertical-align: top;\n",
       "    }\n",
       "\n",
       "    .dataframe thead th {\n",
       "        text-align: right;\n",
       "    }\n",
       "</style>\n",
       "<table border=\"1\" class=\"dataframe\">\n",
       "  <thead>\n",
       "    <tr style=\"text-align: right;\">\n",
       "      <th></th>\n",
       "      <th>Odds Ratio</th>\n",
       "      <th>z-values</th>\n",
       "    </tr>\n",
       "  </thead>\n",
       "  <tbody>\n",
       "    <tr>\n",
       "      <th>const</th>\n",
       "      <td>1.249121</td>\n",
       "      <td>0.025486</td>\n",
       "    </tr>\n",
       "    <tr>\n",
       "      <th>x1</th>\n",
       "      <td>0.966504</td>\n",
       "      <td>0.272595</td>\n",
       "    </tr>\n",
       "    <tr>\n",
       "      <th>x2</th>\n",
       "      <td>1.033865</td>\n",
       "      <td>0.276213</td>\n",
       "    </tr>\n",
       "    <tr>\n",
       "      <th>x3</th>\n",
       "      <td>0.981477</td>\n",
       "      <td>0.539316</td>\n",
       "    </tr>\n",
       "    <tr>\n",
       "      <th>x4</th>\n",
       "      <td>0.981530</td>\n",
       "      <td>0.536452</td>\n",
       "    </tr>\n",
       "    <tr>\n",
       "      <th>x5</th>\n",
       "      <td>0.972181</td>\n",
       "      <td>0.345351</td>\n",
       "    </tr>\n",
       "    <tr>\n",
       "      <th>x6</th>\n",
       "      <td>1.006745</td>\n",
       "      <td>0.876443</td>\n",
       "    </tr>\n",
       "  </tbody>\n",
       "</table>\n",
       "</div>"
      ],
      "text/plain": [
       "       Odds Ratio  z-values\n",
       "const    1.249121  0.025486\n",
       "x1       0.966504  0.272595\n",
       "x2       1.033865  0.276213\n",
       "x3       0.981477  0.539316\n",
       "x4       0.981530  0.536452\n",
       "x5       0.972181  0.345351\n",
       "x6       1.006745  0.876443"
      ]
     },
     "execution_count": 70,
     "metadata": {},
     "output_type": "execute_result"
    }
   ],
   "source": [
    "model_odds=pd.DataFrame(np.exp(log_reg.params),columns=['Odds Ratio'])\n",
    "model_odds['z-values']=log_reg.pvalues\n",
    "model_odds"
   ]
  },
  {
   "cell_type": "markdown",
   "id": "1f23756f",
   "metadata": {},
   "source": [
    "**The Odds ratio is less than 1 means the coefficients of $\\beta's $ is Negative.**\n",
    "\n",
    "**Odds ratio of Lag1 is 0.966504 $<$1 then the negative association between the ${x_1}$ and ${y}$.\n",
    "The Odds Ratio corresponding to ${x_2}$=1.033865. We say that there is positive association between ${x_2}$ and ${y}$.\n",
    "Simillarly Odds Ratio of ${x_3}$, ${x_4}$, ${x_5}$ $<$1,then there is negative Association.\n",
    "And Odds Ratio of ${x_6}$ $>$1 there is positive association between ${x_6}$ and ${y}$.**"
   ]
  },
  {
   "cell_type": "code",
   "execution_count": 71,
   "id": "ec63d76b",
   "metadata": {},
   "outputs": [
    {
     "data": {
      "image/png": "[encoded data removed]",
      "text/plain": [
       "<Figure size 432x288 with 1 Axes>"
      ]
     },
     "metadata": {
      "needs_background": "light"
     },
     "output_type": "display_data"
    }
   ],
   "source": [
    "def sigmoid(z):\n",
    "    return 1 / (1 + np.exp(-z))\n",
    "# Creating sample Z points\n",
    "#\n",
    "z=weekly['Lag1']\n",
    "\n",
    "# Invoking Sigmoid function on all Z points\n",
    "#\n",
    "phi_z = sigmoid(z)\n",
    "\n",
    "# Plotting the Sigmoid function\n",
    "#\n",
    "plt.plot(z, phi_z)\n",
    "plt.axvline(0.0, color='k')\n",
    "plt.xlabel('z')\n",
    "plt.ylabel('$\\phi(z)$')\n",
    "plt.yticks([0.0, 0.5, 1.0])\n",
    "ax = plt.gca()\n",
    "ax.yaxis.grid(True)\n",
    "plt.tight_layout()\n",
    "plt.show()"
   ]
  },
  {
   "cell_type": "markdown",
   "id": "49556f90",
   "metadata": {},
   "source": [
    "**C) Fit the Logistic Regression model using a training data period from 1990 to 2008, with Lag2 as the only predictor.\n",
    "Compute the confusion matrix and overall fraction of correct predictions for the held out data**"
   ]
  },
  {
   "cell_type": "code",
   "execution_count": 72,
   "id": "cb49d3b6",
   "metadata": {},
   "outputs": [
    {
     "data": {
      "text/plain": [
       "array([[  4,  76],\n",
       "       [  4, 113]], dtype=int64)"
      ]
     },
     "execution_count": 72,
     "metadata": {},
     "output_type": "execute_result"
    }
   ],
   "source": [
    "weekly_2008=pd.read_csv(\"weekly_2008.csv\")\n",
    "a=weekly_2008.drop(['Direction','Year'],axis=1).values\n",
    "b=weekly_2008['Direction']\n",
    "from sklearn.model_selection import train_test_split\n",
    "a_train,a_test,b_train,b_test=train_test_split(a,b,test_size=0.20,random_state=1)\n",
    "from sklearn.linear_model import LogisticRegression\n",
    "logmodel_1=LogisticRegression()\n",
    "logmodel_1.fit(a_train,b_train)\n",
    "y_pred1=logmodel_1.predict(a_test)\n",
    "from sklearn.metrics import confusion_matrix\n",
    "c_m=confusion_matrix(b_test,y_pred1)\n",
    "c_m"
   ]
  },
  {
   "cell_type": "markdown",
   "id": "43deec1a",
   "metadata": {},
   "source": [
    "**From this 1990 to 2008 years we get the confusion matrix.\n",
    "our model is correctly predicted that market would go up on 113 days and that it go down on 4 days , for total \n",
    "4+113=117,correct predictions and 80 are incorrect prediction**"
   ]
  },
  {
   "cell_type": "markdown",
   "id": "c8565e43",
   "metadata": {},
   "source": [
    "**D)Fitting LDA on Lag1 and Lag2**"
   ]
  },
  {
   "cell_type": "markdown",
   "id": "7e35ecd4",
   "metadata": {},
   "source": [
    "**LDA**\n",
    "- Linear Discriminant Analysis is classicfication machine learning algorithm. It works by calculating summary statistics for\n",
    "the inpute features by class label, such as the mean and standard deviation. These statistics represent the model learned \n",
    "form the training data.\n",
    "- LDA is also a dimensionality reduction technique.\n",
    "- In LDA A confusion matrix, also known as an error matrix, is a summarized table used to asses the performance of a classification model. The number of correct and incorrect predictions are summarized with count values and broken down by each class.\n",
    "- Accuracy : This is simply equal to the proportion of predictions that the model classfied correctly\n",
    "- Accuracy=$\\frac{#of correct predictions}{total # of predicions}$=**"
   ]
  },
  {
   "cell_type": "code",
   "execution_count": 73,
   "id": "482f86e6",
   "metadata": {},
   "outputs": [],
   "source": [
    "def categorizing(dat):\n",
    "    cat=dat.astype('category').cat.codes\n",
    "    return cat\n",
    "weekly['Direction']=categorizing(weekly['Direction'])"
   ]
  },
  {
   "cell_type": "code",
   "execution_count": 74,
   "id": "c76a374c",
   "metadata": {},
   "outputs": [
    {
     "name": "stderr",
     "output_type": "stream",
     "text": [
      "C:\\Users\\one\\AppData\\Local\\Programs\\Python\\Python39\\lib\\site-packages\\sklearn\\utils\\validation.py:63: DataConversionWarning: A column-vector y was passed when a 1d array was expected. Please change the shape of y to (n_samples, ), for example using ravel().\n",
      "  return f(*args, **kwargs)\n"
     ]
    },
    {
     "data": {
      "text/plain": [
       "LinearDiscriminantAnalysis()"
      ]
     },
     "execution_count": 74,
     "metadata": {},
     "output_type": "execute_result"
    }
   ],
   "source": [
    "from sklearn.discriminant_analysis import LinearDiscriminantAnalysis\n",
    "x_1 = weekly[['Lag1','Lag2']]\n",
    "y_1 = weekly[['Direction']]\n",
    "lda = LinearDiscriminantAnalysis()\n",
    "lda.fit(x_1, y_1)"
   ]
  },
  {
   "cell_type": "code",
   "execution_count": 75,
   "id": "25540ae3",
   "metadata": {},
   "outputs": [
    {
     "name": "stdout",
     "output_type": "stream",
     "text": [
      "[0.44444444 0.55555556]\n"
     ]
    },
    {
     "name": "stderr",
     "output_type": "stream",
     "text": [
      "C:\\Users\\one\\AppData\\Local\\Programs\\Python\\Python39\\lib\\site-packages\\sklearn\\utils\\validation.py:63: DataConversionWarning: A column-vector y was passed when a 1d array was expected. Please change the shape of y to (n_samples, ), for example using ravel().\n",
      "  return f(*args, **kwargs)\n"
     ]
    }
   ],
   "source": [
    "x_1_train=weekly[['Lag1','Lag2']]\n",
    "y_1_train=weekly[['Direction']]\n",
    "x_1_test=weekly[['Lag1','Lag2']]\n",
    "y_1_test=weekly[['Direction']]\n",
    "LDA_model=lda.fit(x_1_train,y_1_train)\n",
    "y_1_pred=lda.predict(x_1_test)\n",
    "print(LDA_model.priors_)      #Prior Probabilities of group."
   ]
  },
  {
   "cell_type": "markdown",
   "id": "fbccc1d7",
   "metadata": {},
   "source": [
    "**LDA output indiacte that $\\pi_1$=0.444444 and $\\pi_2$=0.555555. In other words probability that 44.44$\\%$ of the traning observation corrsponding to direction during which market went down. And probability 55.55$\\%$ of the traning observation corrsponding to direction during which market went up**"
   ]
  },
  {
   "cell_type": "markdown",
   "id": "6bb5cb6f",
   "metadata": {},
   "source": [
    "**Group Means**"
   ]
  },
  {
   "cell_type": "code",
   "execution_count": 76,
   "id": "e8dafa68",
   "metadata": {},
   "outputs": [
    {
     "name": "stdout",
     "output_type": "stream",
     "text": [
      "[[ 0.28229545 -0.04042355]\n",
      " [ 0.04521653  0.30428099]]\n"
     ]
    }
   ],
   "source": [
    "print(LDA_model.means_)"
   ]
  },
  {
   "cell_type": "markdown",
   "id": "14e008dd",
   "metadata": {},
   "source": [
    "**The above are the group means,these are the average of each predictor within each class,and are used by LDA as estimate of\n",
    "$\\mu_k$.These suggest that there is tendency for the previous 2 days return to be positive when the market increases**"
   ]
  },
  {
   "cell_type": "markdown",
   "id": "0b17616e",
   "metadata": {},
   "source": [
    "**Coefficient of Linear Discriminants**"
   ]
  },
  {
   "cell_type": "code",
   "execution_count": 77,
   "id": "a260bcd2",
   "metadata": {},
   "outputs": [
    {
     "name": "stdout",
     "output_type": "stream",
     "text": [
      "[[-0.03849002  0.05955142]]\n"
     ]
    }
   ],
   "source": [
    "print(LDA_model.coef_)"
   ]
  },
  {
   "cell_type": "markdown",
   "id": "6bd859a2",
   "metadata": {},
   "source": [
    "**The coeffiecient of linear discriminants output provide the linear combination of Lag1 and Lag2 that are used to form the\n",
    "Decision rule.**\n",
    "\n",
    "**If -0.03849002$\\times$ Lag1+0.05955142$\\times$ Lag2 will large. The LDA classifier will predict a market increses and if it is small ,then LDA classifier will predict a market down.**"
   ]
  },
  {
   "cell_type": "markdown",
   "id": "61ef8ddd",
   "metadata": {},
   "source": [
    "**Check confusion matrix to see how model is doing.**"
   ]
  },
  {
   "cell_type": "code",
   "execution_count": 78,
   "id": "f5c84235",
   "metadata": {},
   "outputs": [
    {
     "name": "stdout",
     "output_type": "stream",
     "text": [
      "[[ 37 447]\n",
      " [ 37 568]]\n"
     ]
    }
   ],
   "source": [
    "from sklearn.metrics import confusion_matrix\n",
    "matrix=confusion_matrix(y_1_test,y_1_pred)\n",
    "print(matrix)"
   ]
  },
  {
   "cell_type": "code",
   "execution_count": 79,
   "id": "1e27119d",
   "metadata": {},
   "outputs": [
    {
     "data": {
      "text/plain": [
       "<sklearn.metrics._plot.confusion_matrix.ConfusionMatrixDisplay at 0x2157359f520>"
      ]
     },
     "execution_count": 79,
     "metadata": {},
     "output_type": "execute_result"
    },
    {
     "data": {
      "image/png": "[encoded data removed]",
      "text/plain": [
       "<Figure size 432x288 with 2 Axes>"
      ]
     },
     "metadata": {
      "needs_background": "light"
     },
     "output_type": "display_data"
    }
   ],
   "source": [
    "plot_confusion_matrix(lda,x_1_test,y_1_test,\n",
    "                     \n",
    "                     display_labels=[\"LDA(Down)\",\"LDA(Up)\"])"
   ]
  },
  {
   "cell_type": "markdown",
   "id": "126294fa",
   "metadata": {},
   "source": [
    "**The diagonal elemets are positively identified by the Direction. The market assigned 37 days to the \"Down\" class. and \n",
    "568 days to the \"Up\" class.**"
   ]
  },
  {
   "cell_type": "markdown",
   "id": "7c2c6928",
   "metadata": {},
   "source": [
    "**Mean Accuracy for LDA**"
   ]
  },
  {
   "cell_type": "code",
   "execution_count": 80,
   "id": "54ecbc8a",
   "metadata": {},
   "outputs": [
    {
     "name": "stdout",
     "output_type": "stream",
     "text": [
      "0.5555555555555556\n"
     ]
    }
   ],
   "source": [
    "from sklearn.metrics import accuracy_score\n",
    "Accuracy_score=accuracy_score(y_1_test,y_1_pred)\n",
    "print(Accuracy_score)    # The model is 55 % Accurate give the result"
   ]
  },
  {
   "cell_type": "markdown",
   "id": "5a1a85de",
   "metadata": {},
   "source": [
    "**E)Fitting QDA**"
   ]
  },
  {
   "cell_type": "markdown",
   "id": "7f291cad",
   "metadata": {},
   "source": [
    "**QDA**\n",
    "- Quadratic disriminant analysis is quite similar to Linear discriminant analysis except we relaxed the assumption that the mean \n",
    "covariance of all the classes were equal. Therefore, we required to calculate it separately.\n",
    "- The difference is that QDA \n",
    "assumes that each class has its own covariance matrix, while LDA does not"
   ]
  },
  {
   "cell_type": "code",
   "execution_count": 81,
   "id": "8c19aff0",
   "metadata": {},
   "outputs": [
    {
     "name": "stderr",
     "output_type": "stream",
     "text": [
      "C:\\Users\\one\\AppData\\Local\\Programs\\Python\\Python39\\lib\\site-packages\\sklearn\\utils\\validation.py:63: DataConversionWarning: A column-vector y was passed when a 1d array was expected. Please change the shape of y to (n_samples, ), for example using ravel().\n",
      "  return f(*args, **kwargs)\n",
      "C:\\Users\\one\\AppData\\Local\\Programs\\Python\\Python39\\lib\\site-packages\\sklearn\\utils\\validation.py:63: DataConversionWarning: A column-vector y was passed when a 1d array was expected. Please change the shape of y to (n_samples, ), for example using ravel().\n",
      "  return f(*args, **kwargs)\n"
     ]
    }
   ],
   "source": [
    "from sklearn.discriminant_analysis import QuadraticDiscriminantAnalysis\n",
    "qda = QuadraticDiscriminantAnalysis()\n",
    "qda.fit(x_1, y_1)\n",
    "y2_pred=qda.predict(x_1_test)\n",
    "model2=qda.fit(x_1_train,y_1_train)\n"
   ]
  },
  {
   "cell_type": "code",
   "execution_count": 82,
   "id": "0f68fa31",
   "metadata": {},
   "outputs": [
    {
     "name": "stdout",
     "output_type": "stream",
     "text": [
      "[0.44444444 0.55555556]\n",
      "[[ 0.28229545 -0.04042355]\n",
      " [ 0.04521653  0.30428099]]\n"
     ]
    }
   ],
   "source": [
    "print(model2.priors_)\n",
    "print(model2.means_)"
   ]
  },
  {
   "cell_type": "markdown",
   "id": "79b3acc4",
   "metadata": {},
   "source": [
    "**The output contains the group means. But it does not contain te coefficients of the linear discriminants, because the QDA \n",
    "classifier involves a quadratic, rather than a linear, function of the predictors**"
   ]
  },
  {
   "cell_type": "code",
   "execution_count": 83,
   "id": "502a368d",
   "metadata": {},
   "outputs": [
    {
     "name": "stdout",
     "output_type": "stream",
     "text": [
      "[[ 61 423]\n",
      " [ 63 542]]\n"
     ]
    }
   ],
   "source": [
    "from sklearn.metrics import confusion_matrix\n",
    "matrix=confusion_matrix(y_1_test,y2_pred)\n",
    "print(matrix)"
   ]
  },
  {
   "cell_type": "code",
   "execution_count": 84,
   "id": "c72fcd34",
   "metadata": {},
   "outputs": [
    {
     "data": {
      "text/plain": [
       "<sklearn.metrics._plot.confusion_matrix.ConfusionMatrixDisplay at 0x21577b58940>"
      ]
     },
     "execution_count": 84,
     "metadata": {},
     "output_type": "execute_result"
    },
    {
     "data": {
      "image/png": "[encoded data removed]",
      "text/plain": [
       "<Figure size 432x288 with 2 Axes>"
      ]
     },
     "metadata": {
      "needs_background": "light"
     },
     "output_type": "display_data"
    }
   ],
   "source": [
    "plot_confusion_matrix(qda,x_1_test,y_1_test,\n",
    "                     \n",
    "                     display_labels=[\"QDA(Down)\",\"QDA(Up)\"])\n"
   ]
  },
  {
   "cell_type": "markdown",
   "id": "1d25ee94",
   "metadata": {},
   "source": [
    "**Mean Accuracy for QDA**"
   ]
  },
  {
   "cell_type": "code",
   "execution_count": 85,
   "id": "efe5ea61",
   "metadata": {},
   "outputs": [
    {
     "name": "stdout",
     "output_type": "stream",
     "text": [
      "0.5537190082644629\n"
     ]
    }
   ],
   "source": [
    "from sklearn.metrics import accuracy_score\n",
    "Accuracy_score=accuracy_score(y_1_test,y2_pred)\n",
    "print(Accuracy_score)"
   ]
  },
  {
   "cell_type": "markdown",
   "id": "b4d1b048",
   "metadata": {},
   "source": [
    "**The QDA predictions are accurate almost 55.37$\\%$, LDA prediction are accurate almost 55.55$\\%$ and logistic regression \n",
    "prediction score is 58.24$\\%$. Then we say that the logistic regression gives more accuracy than LDA and QDA, the level of accuracy is quite impressive for weekly dataset**"
   ]
  },
  {
   "cell_type": "markdown",
   "id": "dc7aa8ce",
   "metadata": {},
   "source": [
    "**F)KNN fitting**"
   ]
  },
  {
   "cell_type": "markdown",
   "id": "e02961d5",
   "metadata": {},
   "source": [
    "**KNN**\n",
    "- K-nearest neighbors is one of the simplest supervised machine learning algorithm mostly used for classification \n",
    "- To find nearest neighbours we will calculate euclidean distance\n",
    "- $dis(d)=\\sqrt{(x-a)^2+(y-a)^2}$\n",
    "- K-NN can be used to solve both classification and regression problem statments.\n",
    "- It makes highly accurate predictions.\n",
    "- If k=1, then the object is simply assigned to the class of that single nearest neighbour. K value indicate the count of \n",
    "the nearest neighbour."
   ]
  },
  {
   "cell_type": "code",
   "execution_count": 86,
   "id": "560d0489",
   "metadata": {},
   "outputs": [
    {
     "name": "stderr",
     "output_type": "stream",
     "text": [
      "C:\\Users\\one\\AppData\\Local\\Programs\\Python\\Python39\\lib\\site-packages\\sklearn\\neighbors\\_classification.py:179: DataConversionWarning: A column-vector y was passed when a 1d array was expected. Please change the shape of y to (n_samples,), for example using ravel().\n",
      "  return self._fit(X, y)\n"
     ]
    },
    {
     "data": {
      "text/plain": [
       "KNeighborsClassifier(n_neighbors=1)"
      ]
     },
     "execution_count": 86,
     "metadata": {},
     "output_type": "execute_result"
    }
   ],
   "source": [
    "from sklearn.preprocessing import StandardScaler\n",
    "sc=StandardScaler()\n",
    "x_1_train_1=sc.fit_transform(x_1_train)\n",
    "x_1_test=sc.transform(x_1_test)\n",
    "from sklearn.neighbors import KNeighborsClassifier\n",
    "knn=KNeighborsClassifier(n_neighbors=1)\n",
    "knn.fit(x_1_train,y_1_train)"
   ]
  },
  {
   "cell_type": "code",
   "execution_count": 87,
   "id": "83007599",
   "metadata": {},
   "outputs": [
    {
     "name": "stdout",
     "output_type": "stream",
     "text": [
      "[0 1 0 ... 0 0 0]\n"
     ]
    }
   ],
   "source": [
    "y_pred_knn=knn.predict(x_1_test)\n",
    "print(y_pred_knn)"
   ]
  },
  {
   "cell_type": "code",
   "execution_count": 88,
   "id": "470fd684",
   "metadata": {},
   "outputs": [
    {
     "name": "stdout",
     "output_type": "stream",
     "text": [
      "[[219 265]\n",
      " [262 343]]\n"
     ]
    }
   ],
   "source": [
    "from sklearn.metrics import confusion_matrix\n",
    "matrix=confusion_matrix(y_1_test,y_pred_knn)\n",
    "print(matrix)"
   ]
  },
  {
   "cell_type": "code",
   "execution_count": 89,
   "id": "7cd702f2",
   "metadata": {},
   "outputs": [
    {
     "data": {
      "text/plain": [
       "<sklearn.metrics._plot.confusion_matrix.ConfusionMatrixDisplay at 0x21577d39280>"
      ]
     },
     "execution_count": 89,
     "metadata": {},
     "output_type": "execute_result"
    },
    {
     "data": {
      "image/png": "[encoded data removed]",
      "text/plain": [
       "<Figure size 432x288 with 2 Axes>"
      ]
     },
     "metadata": {
      "needs_background": "light"
     },
     "output_type": "display_data"
    }
   ],
   "source": [
    "plot_confusion_matrix(knn,x_1_test,y_1_test,\n",
    "                     \n",
    "                     display_labels=[\"KNN(Down)\",\"KNN(Up)\"])"
   ]
  },
  {
   "cell_type": "markdown",
   "id": "d66a1eb8",
   "metadata": {},
   "source": [
    "**The result using k=1 are not very good.The diagonal elements are positively identified by class and tells us that the market\n",
    "goes on down by 219 days and the market increses by 343 days.**"
   ]
  },
  {
   "cell_type": "markdown",
   "id": "7329f776",
   "metadata": {},
   "source": [
    "**Mean Accuracy for KNN**"
   ]
  },
  {
   "cell_type": "code",
   "execution_count": 90,
   "id": "72aa03dd",
   "metadata": {},
   "outputs": [
    {
     "name": "stdout",
     "output_type": "stream",
     "text": [
      "Accuracy of the model is 0.5160697887970616\n",
      "Error rate of model is 0.48393021120293844\n"
     ]
    }
   ],
   "source": [
    "from sklearn.metrics import accuracy_score\n",
    "Accuracy_score=accuracy_score(y_1_test,y_pred_knn)\n",
    "print(\"Accuracy of the model is\",Accuracy_score)\n",
    "print(\"Error rate of model is\",(1-Accuracy_score))"
   ]
  },
  {
   "cell_type": "markdown",
   "id": "1b014926",
   "metadata": {},
   "source": [
    "**We got Accuracy of the model is $51\\%$.\n",
    "As we have increased the number of neighbors in the model.the accuracy got decreases but this is not necessray for each case.**"
   ]
  },
  {
   "cell_type": "markdown",
   "id": "8b1e6b4f",
   "metadata": {},
   "source": [
    "**For k=2**"
   ]
  },
  {
   "cell_type": "code",
   "execution_count": 91,
   "id": "c77e7c79",
   "metadata": {},
   "outputs": [
    {
     "name": "stdout",
     "output_type": "stream",
     "text": [
      "0.4921946740128558\n"
     ]
    },
    {
     "name": "stderr",
     "output_type": "stream",
     "text": [
      "C:\\Users\\one\\AppData\\Local\\Programs\\Python\\Python39\\lib\\site-packages\\sklearn\\neighbors\\_classification.py:179: DataConversionWarning: A column-vector y was passed when a 1d array was expected. Please change the shape of y to (n_samples,), for example using ravel().\n",
      "  return self._fit(X, y)\n"
     ]
    }
   ],
   "source": [
    "from sklearn.neighbors import KNeighborsClassifier\n",
    "knn1=KNeighborsClassifier(n_neighbors=2)\n",
    "knn1.fit(x_1_train,y_1_train)\n",
    "y_pred_knn1=knn1.predict(x_1_test)\n",
    "from sklearn.metrics import accuracy_score\n",
    "Accuracy_score=accuracy_score(y_1_test,y_pred_knn1)\n",
    "print(Accuracy_score)"
   ]
  },
  {
   "cell_type": "markdown",
   "id": "35a45d84",
   "metadata": {},
   "source": [
    "**On Applying Logistic,QDA,LDA and Knn on the model. We get best result by Logistic regression model.**"
   ]
  },
  {
   "cell_type": "code",
   "execution_count": null,
   "id": "49c05d6f",
   "metadata": {},
   "outputs": [],
   "source": []
  },
  {
   "cell_type": "code",
   "execution_count": null,
   "id": "5a3600ff",
   "metadata": {},
   "outputs": [],
   "source": []
  },
  {
   "cell_type": "code",
   "execution_count": null,
   "id": "8a720d2c",
   "metadata": {},
   "outputs": [],
   "source": []
  },
  {
   "cell_type": "code",
   "execution_count": null,
   "id": "9560127c",
   "metadata": {},
   "outputs": [],
   "source": []
  }
 ],
 "metadata": {
  "kernelspec": {
   "display_name": "Python 3 (ipykernel)",
   "language": "python",
   "name": "python3"
  },
  "language_info": {
   "codemirror_mode": {
    "name": "ipython",
    "version": 3
   },
   "file_extension": ".py",
   "mimetype": "text/x-python",
   "name": "python",
   "nbconvert_exporter": "python",
   "pygments_lexer": "ipython3",
   "version": "3.9.5"
  }
 },
 "nbformat": 4,
 "nbformat_minor": 5
}
