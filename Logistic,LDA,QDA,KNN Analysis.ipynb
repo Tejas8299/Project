{
 "cells": [
  {
   "cell_type": "markdown",
   "id": "a2cd82cc",
   "metadata": {},
   "source": [
    "## Problem Statement\n",
    "### Perform Analysis Using Logistic regression, LDA, QDA, KNN. and Comparison Between them.\n",
    "### A) Logistic regression\n"
   ]
  },
  {
   "cell_type": "code",
   "execution_count": null,
   "id": "ae91ee55",
   "metadata": {},
   "outputs": [],
   "source": [
    "Logistic Regression is a machine learning classcification algorithm that is used to predict the probability of a categorical\n",
    "dependent variable.\n",
    "In logistic regression, the dependent variable is binary variable that contains data coded as 1(yes,success) or 0(no,failure)\n",
    "Logistic regression analysis is used to examine the association of (categorical or continuous) independent variable with one\n",
    "dichotomous dependent variable.\n",
    "Odds ratio represents the constant effect of a predictor X, on the likelihood that one outcome will occur.\n",
    "Odds ratios are used to compare the relative odds of the occurence \n",
    "of the outcome of interest"
   ]
  },
  {
   "cell_type": "code",
   "execution_count": null,
   "id": "bcca1d18",
   "metadata": {},
   "outputs": [],
   "source": [
    "Importing Libraries"
   ]
  },
  {
   "cell_type": "code",
   "execution_count": 1,
   "id": "cb56c28a",
   "metadata": {},
   "outputs": [],
   "source": [
    "import numpy as np\n",
    "import pandas as pd\n",
    "import matplotlib.pyplot as plt\n",
    "import seaborn as sns\n",
    "from warnings import filterwarnings\n",
    "filterwarnings(\"ignore\")"
   ]
  },
  {
   "cell_type": "code",
   "execution_count": 2,
   "id": "75502514",
   "metadata": {},
   "outputs": [
    {
     "data": {
      "text/html": [
       "<div>\n",
       "<style scoped>\n",
       "    .dataframe tbody tr th:only-of-type {\n",
       "        vertical-align: middle;\n",
       "    }\n",
       "\n",
       "    .dataframe tbody tr th {\n",
       "        vertical-align: top;\n",
       "    }\n",
       "\n",
       "    .dataframe thead th {\n",
       "        text-align: right;\n",
       "    }\n",
       "</style>\n",
       "<table border=\"1\" class=\"dataframe\">\n",
       "  <thead>\n",
       "    <tr style=\"text-align: right;\">\n",
       "      <th></th>\n",
       "      <th>Year</th>\n",
       "      <th>Lag1</th>\n",
       "      <th>Lag2</th>\n",
       "      <th>Lag3</th>\n",
       "      <th>Lag4</th>\n",
       "      <th>Lag5</th>\n",
       "      <th>Volume</th>\n",
       "      <th>Today</th>\n",
       "      <th>Direction</th>\n",
       "    </tr>\n",
       "  </thead>\n",
       "  <tbody>\n",
       "    <tr>\n",
       "      <th>0</th>\n",
       "      <td>1990</td>\n",
       "      <td>0.816</td>\n",
       "      <td>1.572</td>\n",
       "      <td>-3.936</td>\n",
       "      <td>-0.229</td>\n",
       "      <td>-3.484</td>\n",
       "      <td>0.154976</td>\n",
       "      <td>-0.270</td>\n",
       "      <td>Down</td>\n",
       "    </tr>\n",
       "    <tr>\n",
       "      <th>1</th>\n",
       "      <td>1990</td>\n",
       "      <td>-0.270</td>\n",
       "      <td>0.816</td>\n",
       "      <td>1.572</td>\n",
       "      <td>-3.936</td>\n",
       "      <td>-0.229</td>\n",
       "      <td>0.148574</td>\n",
       "      <td>-2.576</td>\n",
       "      <td>Down</td>\n",
       "    </tr>\n",
       "    <tr>\n",
       "      <th>2</th>\n",
       "      <td>1990</td>\n",
       "      <td>-2.576</td>\n",
       "      <td>-0.270</td>\n",
       "      <td>0.816</td>\n",
       "      <td>1.572</td>\n",
       "      <td>-3.936</td>\n",
       "      <td>0.159837</td>\n",
       "      <td>3.514</td>\n",
       "      <td>Up</td>\n",
       "    </tr>\n",
       "    <tr>\n",
       "      <th>3</th>\n",
       "      <td>1990</td>\n",
       "      <td>3.514</td>\n",
       "      <td>-2.576</td>\n",
       "      <td>-0.270</td>\n",
       "      <td>0.816</td>\n",
       "      <td>1.572</td>\n",
       "      <td>0.161630</td>\n",
       "      <td>0.712</td>\n",
       "      <td>Up</td>\n",
       "    </tr>\n",
       "    <tr>\n",
       "      <th>4</th>\n",
       "      <td>1990</td>\n",
       "      <td>0.712</td>\n",
       "      <td>3.514</td>\n",
       "      <td>-2.576</td>\n",
       "      <td>-0.270</td>\n",
       "      <td>0.816</td>\n",
       "      <td>0.153728</td>\n",
       "      <td>1.178</td>\n",
       "      <td>Up</td>\n",
       "    </tr>\n",
       "  </tbody>\n",
       "</table>\n",
       "</div>"
      ],
      "text/plain": [
       "   Year   Lag1   Lag2   Lag3   Lag4   Lag5    Volume  Today Direction\n",
       "0  1990  0.816  1.572 -3.936 -0.229 -3.484  0.154976 -0.270      Down\n",
       "1  1990 -0.270  0.816  1.572 -3.936 -0.229  0.148574 -2.576      Down\n",
       "2  1990 -2.576 -0.270  0.816  1.572 -3.936  0.159837  3.514        Up\n",
       "3  1990  3.514 -2.576 -0.270  0.816  1.572  0.161630  0.712        Up\n",
       "4  1990  0.712  3.514 -2.576 -0.270  0.816  0.153728  1.178        Up"
      ]
     },
     "execution_count": 2,
     "metadata": {},
     "output_type": "execute_result"
    }
   ],
   "source": [
    "weekly=pd.read_csv(\"weekly_data.csv\")\n",
    "weekly.head()"
   ]
  },
  {
   "cell_type": "markdown",
   "id": "8237c21c",
   "metadata": {},
   "source": [
    "Year : The year that the observation was recorded.  \n",
    "Lag1 : Percentage return for previous week.  \n",
    "Lag2 : Percentage return for 2 weeks previous. \n",
    "Lag3 : Percentage return for 3 weeks previous.  \n",
    "Lag4 : Percentage return for 4 weeks previous.  \n",
    "Lag5 : Percentage return for 5 weeks previous.  \n",
    "Volume : Volume of Shares traded(average number of daily shares traded in billions).  \n",
    "Today :A factor with levels Down and Up indicating weather the market had positive or negative return on a given week. \n",
    "In our dataset 1089 rows and 9 columns."
   ]
  },
  {
   "cell_type": "markdown",
   "id": "3292ac36",
   "metadata": {},
   "source": [
    " **A)Produce Some numerical and graphical Summaries of the weekly data.**"
   ]
  },
  {
   "cell_type": "code",
   "execution_count": 3,
   "id": "fa95b6ca",
   "metadata": {},
   "outputs": [
    {
     "data": {
      "text/html": [
       "<div>\n",
       "<style scoped>\n",
       "    .dataframe tbody tr th:only-of-type {\n",
       "        vertical-align: middle;\n",
       "    }\n",
       "\n",
       "    .dataframe tbody tr th {\n",
       "        vertical-align: top;\n",
       "    }\n",
       "\n",
       "    .dataframe thead th {\n",
       "        text-align: right;\n",
       "    }\n",
       "</style>\n",
       "<table border=\"1\" class=\"dataframe\">\n",
       "  <thead>\n",
       "    <tr style=\"text-align: right;\">\n",
       "      <th></th>\n",
       "      <th>Year</th>\n",
       "      <th>Lag1</th>\n",
       "      <th>Lag2</th>\n",
       "      <th>Lag3</th>\n",
       "      <th>Lag4</th>\n",
       "      <th>Lag5</th>\n",
       "      <th>Volume</th>\n",
       "      <th>Today</th>\n",
       "    </tr>\n",
       "  </thead>\n",
       "  <tbody>\n",
       "    <tr>\n",
       "      <th>Year</th>\n",
       "      <td>1.000000</td>\n",
       "      <td>-0.032289</td>\n",
       "      <td>-0.033390</td>\n",
       "      <td>-0.030006</td>\n",
       "      <td>-0.031128</td>\n",
       "      <td>-0.030519</td>\n",
       "      <td>0.841942</td>\n",
       "      <td>-0.032460</td>\n",
       "    </tr>\n",
       "    <tr>\n",
       "      <th>Lag1</th>\n",
       "      <td>-0.032289</td>\n",
       "      <td>1.000000</td>\n",
       "      <td>-0.074853</td>\n",
       "      <td>0.058636</td>\n",
       "      <td>-0.071274</td>\n",
       "      <td>-0.008183</td>\n",
       "      <td>-0.064951</td>\n",
       "      <td>-0.075032</td>\n",
       "    </tr>\n",
       "    <tr>\n",
       "      <th>Lag2</th>\n",
       "      <td>-0.033390</td>\n",
       "      <td>-0.074853</td>\n",
       "      <td>1.000000</td>\n",
       "      <td>-0.075721</td>\n",
       "      <td>0.058382</td>\n",
       "      <td>-0.072499</td>\n",
       "      <td>-0.085513</td>\n",
       "      <td>0.059167</td>\n",
       "    </tr>\n",
       "    <tr>\n",
       "      <th>Lag3</th>\n",
       "      <td>-0.030006</td>\n",
       "      <td>0.058636</td>\n",
       "      <td>-0.075721</td>\n",
       "      <td>1.000000</td>\n",
       "      <td>-0.075396</td>\n",
       "      <td>0.060657</td>\n",
       "      <td>-0.069288</td>\n",
       "      <td>-0.071244</td>\n",
       "    </tr>\n",
       "    <tr>\n",
       "      <th>Lag4</th>\n",
       "      <td>-0.031128</td>\n",
       "      <td>-0.071274</td>\n",
       "      <td>0.058382</td>\n",
       "      <td>-0.075396</td>\n",
       "      <td>1.000000</td>\n",
       "      <td>-0.075675</td>\n",
       "      <td>-0.061075</td>\n",
       "      <td>-0.007826</td>\n",
       "    </tr>\n",
       "    <tr>\n",
       "      <th>Lag5</th>\n",
       "      <td>-0.030519</td>\n",
       "      <td>-0.008183</td>\n",
       "      <td>-0.072499</td>\n",
       "      <td>0.060657</td>\n",
       "      <td>-0.075675</td>\n",
       "      <td>1.000000</td>\n",
       "      <td>-0.058517</td>\n",
       "      <td>0.011013</td>\n",
       "    </tr>\n",
       "    <tr>\n",
       "      <th>Volume</th>\n",
       "      <td>0.841942</td>\n",
       "      <td>-0.064951</td>\n",
       "      <td>-0.085513</td>\n",
       "      <td>-0.069288</td>\n",
       "      <td>-0.061075</td>\n",
       "      <td>-0.058517</td>\n",
       "      <td>1.000000</td>\n",
       "      <td>-0.033078</td>\n",
       "    </tr>\n",
       "    <tr>\n",
       "      <th>Today</th>\n",
       "      <td>-0.032460</td>\n",
       "      <td>-0.075032</td>\n",
       "      <td>0.059167</td>\n",
       "      <td>-0.071244</td>\n",
       "      <td>-0.007826</td>\n",
       "      <td>0.011013</td>\n",
       "      <td>-0.033078</td>\n",
       "      <td>1.000000</td>\n",
       "    </tr>\n",
       "  </tbody>\n",
       "</table>\n",
       "</div>"
      ],
      "text/plain": [
       "            Year      Lag1      Lag2      Lag3      Lag4      Lag5    Volume  \\\n",
       "Year    1.000000 -0.032289 -0.033390 -0.030006 -0.031128 -0.030519  0.841942   \n",
       "Lag1   -0.032289  1.000000 -0.074853  0.058636 -0.071274 -0.008183 -0.064951   \n",
       "Lag2   -0.033390 -0.074853  1.000000 -0.075721  0.058382 -0.072499 -0.085513   \n",
       "Lag3   -0.030006  0.058636 -0.075721  1.000000 -0.075396  0.060657 -0.069288   \n",
       "Lag4   -0.031128 -0.071274  0.058382 -0.075396  1.000000 -0.075675 -0.061075   \n",
       "Lag5   -0.030519 -0.008183 -0.072499  0.060657 -0.075675  1.000000 -0.058517   \n",
       "Volume  0.841942 -0.064951 -0.085513 -0.069288 -0.061075 -0.058517  1.000000   \n",
       "Today  -0.032460 -0.075032  0.059167 -0.071244 -0.007826  0.011013 -0.033078   \n",
       "\n",
       "           Today  \n",
       "Year   -0.032460  \n",
       "Lag1   -0.075032  \n",
       "Lag2    0.059167  \n",
       "Lag3   -0.071244  \n",
       "Lag4   -0.007826  \n",
       "Lag5    0.011013  \n",
       "Volume -0.033078  \n",
       "Today   1.000000  "
      ]
     },
     "execution_count": 3,
     "metadata": {},
     "output_type": "execute_result"
    }
   ],
   "source": [
    "weekly.corr(method='pearson')"
   ]
  },
  {
   "cell_type": "markdown",
   "id": "8ecbd55f",
   "metadata": {},
   "source": [
    "The correlation between the lag variable and today's return are close to zero,and also the correlation between the lag variable\n",
    "and volume is close to zero.\n",
    "The only substantial correlation between year and volume. by plotting the data we see that volume is increasing over time.\n",
    "The average number of shares traded daily increased from 1990 to 2010."
   ]
  },
  {
   "cell_type": "code",
   "execution_count": 42,
   "id": "1387b00c",
   "metadata": {},
   "outputs": [
    {
     "data": {
      "image/png": "[encoded data removed]",
      "text/plain": [
       "<Figure size 432x288 with 1 Axes>"
      ]
     },
     "metadata": {
      "needs_background": "light"
     },
     "output_type": "display_data"
    }
   ],
   "source": [
    "x_1=weekly['Lag1']\n",
    "plt.scatter(x_1,y, marker='+',color='red')\n",
    "plt.title('plot of Lag1')\n",
    "plt.show()\n"
   ]
  },
  {
   "cell_type": "markdown",
   "id": "8775eae0",
   "metadata": {},
   "source": [
    "from the above graph, the different values of Lag1 corresponding Direction values are either up and down."
   ]
  },
  {
   "cell_type": "code",
   "execution_count": 60,
   "id": "8306f9d6",
   "metadata": {},
   "outputs": [],
   "source": [
    "def categorizing(dat):\n",
    "    cat=dat.astype('category').cat.codes\n",
    "    return cat\n",
    "weekly['Direction']=categorizing(weekly['Direction'])    # We converted Down in 0 and Up in 1"
   ]
  },
  {
   "cell_type": "markdown",
   "id": "87f4ce48",
   "metadata": {},
   "source": [
    "**B)Use the full data set to perform logistic regression with direction as the response and five lag variables plus volume as \n",
    "predictors.\n",
    "Use the summary function to print the results.**"
   ]
  },
  {
   "cell_type": "code",
   "execution_count": 14,
   "id": "b5c4044c",
   "metadata": {},
   "outputs": [],
   "source": [
    "x=weekly.drop(['Year','Direction','Today'],axis=1).values\n",
    "y=weekly['Direction']\n",
    "from sklearn.model_selection import train_test_split\n",
    "x_train,x_test,y_train,y_test=train_test_split(x,y,test_size=0.25,random_state=1)\n",
    "from sklearn.linear_model import LogisticRegression\n",
    "logmodel=LogisticRegression()\n",
    "logmodel.fit(x_train,y_train)\n",
    "y_pred=logmodel.predict(x_test)\n",
    "#print(y_pred)"
   ]
  },
  {
   "cell_type": "code",
   "execution_count": 15,
   "id": "be3cd0ef",
   "metadata": {},
   "outputs": [
    {
     "name": "stdout",
     "output_type": "stream",
     "text": [
      "Accuracy_score: 0.58\n"
     ]
    }
   ],
   "source": [
    "from sklearn.metrics import accuracy_score\n",
    "Accuracy_score=accuracy_score(y_test,y_pred)\n",
    "print(\"Accuracy_score: \"+\"{:.2f}\".format(Accuracy_score));"
   ]
  },
  {
   "cell_type": "markdown",
   "id": "6510be1f",
   "metadata": {},
   "source": [
    "The Accuarcy is 58 $\\%$ by Logistic Regression."
   ]
  },
  {
   "cell_type": "markdown",
   "id": "13811c2e",
   "metadata": {},
   "source": [
    "**For printing summary of Logistic Regression**"
   ]
  },
  {
   "cell_type": "code",
   "execution_count": 11,
   "id": "45a5af3b",
   "metadata": {},
   "outputs": [
    {
     "name": "stdout",
     "output_type": "stream",
     "text": [
      "Optimization terminated successfully.\n",
      "         Current function value: 0.684309\n",
      "         Iterations 4\n",
      "                           Logit Regression Results                           \n",
      "==============================================================================\n",
      "Dep. Variable:              Direction   No. Observations:                  816\n",
      "Model:                          Logit   Df Residuals:                      809\n",
      "Method:                           MLE   Df Model:                            6\n",
      "Date:                Tue, 26 Apr 2022   Pseudo R-squ.:                0.003993\n",
      "Time:                        20:59:17   Log-Likelihood:                -558.40\n",
      "converged:                       True   LL-Null:                       -560.63\n",
      "Covariance Type:            nonrobust   LLR p-value:                    0.6124\n",
      "==============================================================================\n",
      "                 coef    std err          z      P>|z|      [0.025      0.975]\n",
      "------------------------------------------------------------------------------\n",
      "const          0.2224      0.100      2.234      0.025       0.027       0.418\n",
      "x1            -0.0341      0.031     -1.097      0.273      -0.095       0.027\n",
      "x2             0.0333      0.031      1.089      0.276      -0.027       0.093\n",
      "x3            -0.0187      0.030     -0.614      0.539      -0.078       0.041\n",
      "x4            -0.0186      0.030     -0.618      0.536      -0.078       0.040\n",
      "x5            -0.0282      0.030     -0.944      0.345      -0.087       0.030\n",
      "x6             0.0067      0.043      0.155      0.876      -0.078       0.091\n",
      "==============================================================================\n"
     ]
    }
   ],
   "source": [
    "import statsmodels.api as sm\n",
    "x_train_logit=sm.add_constant(x_train)\n",
    "log_reg=sm.Logit(y_train,x_train_logit).fit()\n",
    "print(log_reg.summary())"
   ]
  },
  {
   "cell_type": "markdown",
   "id": "66e86e65",
   "metadata": {},
   "source": [
    "Here we plot summary of Logistic regression.  \n",
    "Here is All p-value is greater than 0.05.There is no variables contributes significantly to the model.  \n",
    "The estimated logit is  \n",
    "$\\log\\left(\\frac{\\pi(x)}{1-\\pi(x)}\\right)$=0.2224-0.0341*Lag1+0.0333*Lag2-0.0187*Lag3-0.0186*Lag4-0.0282*Lag5+0.0067*Volume.\n",
    "\n",
    "Log-Likelihood - The natural logarithm of the MLE. MLE is the optimization process of finding the set of parameters.  \n",
    "LL-Null - The value of log-likelihood of the model when no independent variable is included.  \n",
    "Pseudo R-sq- It is the ratio of 1- log likelihood of the full model to that of the null model. Here is Pseudo R-sq is 0.003993\n",
    "is less then the model is not good.\n",
    "\n",
    "**Que-Do any of the predictors appear to be statistically significant?**  \n",
    "**Ans-There is none of the Predictor which is statistically significant.**  \n",
    "\n"
   ]
  },
  {
   "cell_type": "markdown",
   "id": "cb4de12f",
   "metadata": {},
   "source": [
    "**Compute Confusion-Matrix and overall fraction of correct predictors.**"
   ]
  },
  {
   "cell_type": "code",
   "execution_count": 43,
   "id": "52803af8",
   "metadata": {},
   "outputs": [
    {
     "data": {
      "text/plain": [
       "<sklearn.metrics._plot.confusion_matrix.ConfusionMatrixDisplay at 0x21364017580>"
      ]
     },
     "execution_count": 43,
     "metadata": {},
     "output_type": "execute_result"
    },
    {
     "data": {
      "image/png": "[encoded data removed]",
      "text/plain": [
       "<Figure size 432x288 with 2 Axes>"
      ]
     },
     "metadata": {
      "needs_background": "light"
     },
     "output_type": "display_data"
    }
   ],
   "source": [
    "from sklearn.metrics import confusion_matrix\n",
    "from sklearn.metrics import plot_confusion_matrix\n",
    "c_m=confusion_matrix(y_test,y_pred)\n",
    "c_m\n",
    "plot_confusion_matrix(logmodel,x_test,y_test,\n",
    "                     \n",
    "                     display_labels=[\"logistic(Down)\",\"logistic(Up)\"])"
   ]
  },
  {
   "cell_type": "markdown",
   "id": "07bcd773",
   "metadata": {},
   "source": [
    "The diagonal element of the confusion matrix indicate correct predictions, while the off-diagonal reprsent incorrect predictor \n",
    "Hence our model is correctly predicted that market would go up on 148 days and that it go down on 11 days ,\n",
    "for total 11+148=159,correct predictions and 114 are incorrect prediction"
   ]
  },
  {
   "cell_type": "markdown",
   "id": "ad60f3dc",
   "metadata": {},
   "source": [
    "**Odds Ratio**  \n",
    "from the above summary we got the coeffiecients but using this it is difficult to interpret the odd ratio, \n",
    "log odds is not intuitive in its interepretation.Lets convert this odds ratio and interepret the model again."
   ]
  },
  {
   "cell_type": "code",
   "execution_count": 44,
   "id": "d28687c1",
   "metadata": {},
   "outputs": [
    {
     "data": {
      "text/html": [
       "<div>\n",
       "<style scoped>\n",
       "    .dataframe tbody tr th:only-of-type {\n",
       "        vertical-align: middle;\n",
       "    }\n",
       "\n",
       "    .dataframe tbody tr th {\n",
       "        vertical-align: top;\n",
       "    }\n",
       "\n",
       "    .dataframe thead th {\n",
       "        text-align: right;\n",
       "    }\n",
       "</style>\n",
       "<table border=\"1\" class=\"dataframe\">\n",
       "  <thead>\n",
       "    <tr style=\"text-align: right;\">\n",
       "      <th></th>\n",
       "      <th>Odds Ratio</th>\n",
       "      <th>z-values</th>\n",
       "    </tr>\n",
       "  </thead>\n",
       "  <tbody>\n",
       "    <tr>\n",
       "      <th>const</th>\n",
       "      <td>1.249121</td>\n",
       "      <td>0.025486</td>\n",
       "    </tr>\n",
       "    <tr>\n",
       "      <th>x1</th>\n",
       "      <td>0.966504</td>\n",
       "      <td>0.272595</td>\n",
       "    </tr>\n",
       "    <tr>\n",
       "      <th>x2</th>\n",
       "      <td>1.033865</td>\n",
       "      <td>0.276213</td>\n",
       "    </tr>\n",
       "    <tr>\n",
       "      <th>x3</th>\n",
       "      <td>0.981477</td>\n",
       "      <td>0.539316</td>\n",
       "    </tr>\n",
       "    <tr>\n",
       "      <th>x4</th>\n",
       "      <td>0.981530</td>\n",
       "      <td>0.536452</td>\n",
       "    </tr>\n",
       "    <tr>\n",
       "      <th>x5</th>\n",
       "      <td>0.972181</td>\n",
       "      <td>0.345351</td>\n",
       "    </tr>\n",
       "    <tr>\n",
       "      <th>x6</th>\n",
       "      <td>1.006745</td>\n",
       "      <td>0.876443</td>\n",
       "    </tr>\n",
       "  </tbody>\n",
       "</table>\n",
       "</div>"
      ],
      "text/plain": [
       "       Odds Ratio  z-values\n",
       "const    1.249121  0.025486\n",
       "x1       0.966504  0.272595\n",
       "x2       1.033865  0.276213\n",
       "x3       0.981477  0.539316\n",
       "x4       0.981530  0.536452\n",
       "x5       0.972181  0.345351\n",
       "x6       1.006745  0.876443"
      ]
     },
     "execution_count": 44,
     "metadata": {},
     "output_type": "execute_result"
    }
   ],
   "source": [
    "model_odds=pd.DataFrame(np.exp(log_reg.params),columns=['Odds Ratio'])\n",
    "model_odds['z-values']=log_reg.pvalues\n",
    "model_odds"
   ]
  },
  {
   "cell_type": "markdown",
   "id": "fb269509",
   "metadata": {},
   "source": [
    "If the Lag1 is increases by one unit then Direction of market decreases by 4$\\%$.  \n",
    "If the Lag3 is increases by one unit then Direction of market decreases by 2$\\%$.  \n",
    "If the Lag4 is increases by one unit then the Direction of market is decreases by 2$\\%$.  \n",
    "If the Lag 5 is increases by one unit then the Direction of market is decreases by 3$\\%$.  \n",
    "There is no effect of increases or decreases in  Lag2 and Volume on Direction of the market. "
   ]
  },
  {
   "cell_type": "markdown",
   "id": "ec15cba5",
   "metadata": {},
   "source": [
    "**C) Fit the Logistic Regression model using a training data period from 1990 to 2008, with Lag2 as the only predictor.\n",
    "Compute the confusion matrix and overall fraction of correct predictions for the held out data.**"
   ]
  },
  {
   "cell_type": "code",
   "execution_count": 45,
   "id": "bcd3ec77",
   "metadata": {},
   "outputs": [
    {
     "data": {
      "text/plain": [
       "array([[  4,  76],\n",
       "       [  4, 113]], dtype=int64)"
      ]
     },
     "execution_count": 45,
     "metadata": {},
     "output_type": "execute_result"
    }
   ],
   "source": [
    "weekly_2008=pd.read_csv(\"weekly_2008.csv\")\n",
    "a=weekly_2008.drop(['Direction','Year'],axis=1).values\n",
    "b=weekly_2008['Direction']\n",
    "from sklearn.model_selection import train_test_split\n",
    "a_train,a_test,b_train,b_test=train_test_split(a,b,test_size=0.20,random_state=1)\n",
    "from sklearn.linear_model import LogisticRegression\n",
    "logmodel_1=LogisticRegression()\n",
    "logmodel_1.fit(a_train,b_train)\n",
    "y_pred1=logmodel_1.predict(a_test)\n",
    "from sklearn.metrics import confusion_matrix\n",
    "c_m=confusion_matrix(b_test,y_pred1)\n",
    "c_m"
   ]
  },
  {
   "cell_type": "markdown",
   "id": "4e463986",
   "metadata": {},
   "source": [
    "From this 1990 to 2008 years we get the confusion matrix. our model is correctly predicted that market would go up on 113 days\n",
    "and that it go down on 4 days , for total 4+113=117,correct predictions and 80 are incorrect prediction."
   ]
  },
  {
   "cell_type": "markdown",
   "id": "83bca648",
   "metadata": {},
   "source": [
    "**D)Fitting LDA on Lag1 and Lag2.** "
   ]
  },
  {
   "cell_type": "markdown",
   "id": "bc660f59",
   "metadata": {},
   "source": [
    "Linear Discriminant Analysis is classicfication machine learning algorithm. It works by calculating summary statistics for the\n",
    "inpute features by class label, such as the mean and standard deviation. These statistics represent the model learned form the \n",
    "training data.  \n",
    "LDA is also a dimensionality reduction technique.\n",
    "In LDA A confusion matrix, also known as an error matrix, is a summarized table used to asses the performance of a\n",
    "classification model. The number of correct and incorrect predictions are summarized with count values and broken down by each \n",
    "class.\n",
    "Accuracy : This is simply equal to the proportion of predictions that the model classfied correctly.   "
   ]
  },
  {
   "cell_type": "code",
   "execution_count": 61,
   "id": "a97f4f44",
   "metadata": {},
   "outputs": [],
   "source": [
    "def categorizing(dat):\n",
    "    cat=dat.astype('category').cat.codes\n",
    "    return cat\n",
    "weekly['Direction']=categorizing(weekly['Direction'])    # We converted Down in 0 and Up in 1"
   ]
  },
  {
   "cell_type": "code",
   "execution_count": 67,
   "id": "02b5ea21",
   "metadata": {},
   "outputs": [
    {
     "data": {
      "text/plain": [
       "LinearDiscriminantAnalysis()"
      ]
     },
     "execution_count": 67,
     "metadata": {},
     "output_type": "execute_result"
    }
   ],
   "source": [
    "from sklearn.discriminant_analysis import LinearDiscriminantAnalysis\n",
    "x_1 = weekly[['Lag1','Lag2']]\n",
    "y_1 = weekly[['Direction']]\n",
    "lda = LinearDiscriminantAnalysis()\n",
    "lda.fit(x_1, y_1)"
   ]
  },
  {
   "cell_type": "code",
   "execution_count": 68,
   "id": "9c357d0a",
   "metadata": {},
   "outputs": [
    {
     "name": "stdout",
     "output_type": "stream",
     "text": [
      "[0.44444444 0.55555556]\n"
     ]
    }
   ],
   "source": [
    "x_1_train=weekly[['Lag1','Lag2']]\n",
    "y_1_train=weekly[['Direction']]\n",
    "x_1_test=weekly[['Lag1','Lag2']]\n",
    "y_1_test=weekly[['Direction']]\n",
    "LDA_model=lda.fit(x_1_train,y_1_train)\n",
    "y_1_pred=lda.predict(x_1_test)\n",
    "print(LDA_model.priors_)      #Prior Probabilities of group."
   ]
  },
  {
   "cell_type": "markdown",
   "id": "42e21654",
   "metadata": {},
   "source": [
    "LDA output indiacte that $\\pi_1$=0.444444 and $\\pi_2$=0.555555. In other words probability that 44.44 of the traning observation corrsponding \n",
    "to direction during which market went down. And probability 55.55 $\\%$ of the traning observation corrsponding to direction during \n",
    "which market went up."
   ]
  },
  {
   "cell_type": "code",
   "execution_count": 69,
   "id": "cfb50276",
   "metadata": {},
   "outputs": [
    {
     "name": "stdout",
     "output_type": "stream",
     "text": [
      "[[ 0.28229545 -0.04042355]\n",
      " [ 0.04521653  0.30428099]]\n"
     ]
    }
   ],
   "source": [
    "print(LDA_model.means_)   #Group means"
   ]
  },
  {
   "cell_type": "markdown",
   "id": "0c750f83",
   "metadata": {},
   "source": [
    "The above are the group means,these are the average of each predictor within each class,and are used by LDA as estimate of $\\mu_k$ \n",
    ".These suggest that there is tendency for the previous 2 days return to be positive when the market increases"
   ]
  },
  {
   "cell_type": "code",
   "execution_count": 70,
   "id": "ee463dd6",
   "metadata": {},
   "outputs": [
    {
     "name": "stdout",
     "output_type": "stream",
     "text": [
      "[[-0.03849002  0.05955142]]\n"
     ]
    }
   ],
   "source": [
    "print(LDA_model.coef_)   #coefficient of Discriminant function."
   ]
  },
  {
   "cell_type": "markdown",
   "id": "15e1c5d1",
   "metadata": {},
   "source": [
    "The coeffiecient of linear discriminants output provide the linear combination of Lag1 and Lag2 that are used to form the Decision rule.\n",
    "\n",
    "If -0.03849002 Lag1+0.05955142 Lag2 will large. The LDA classifier will predict a market increses and if it is small ,then LDA classifier will predict a market down."
   ]
  },
  {
   "cell_type": "markdown",
   "id": "b525092c",
   "metadata": {},
   "source": [
    "**Check confusion matrix**"
   ]
  },
  {
   "cell_type": "code",
   "execution_count": 71,
   "id": "a9f970f9",
   "metadata": {},
   "outputs": [
    {
     "name": "stdout",
     "output_type": "stream",
     "text": [
      "[[ 37 447]\n",
      " [ 37 568]]\n"
     ]
    },
    {
     "data": {
      "text/plain": [
       "<sklearn.metrics._plot.confusion_matrix.ConfusionMatrixDisplay at 0x21363f644f0>"
      ]
     },
     "execution_count": 71,
     "metadata": {},
     "output_type": "execute_result"
    },
    {
     "data": {
      "image/png": "[encoded data removed]",
      "text/plain": [
       "<Figure size 432x288 with 2 Axes>"
      ]
     },
     "metadata": {
      "needs_background": "light"
     },
     "output_type": "display_data"
    }
   ],
   "source": [
    "from sklearn.metrics import confusion_matrix\n",
    "matrix=confusion_matrix(y_1_test,y_1_pred)\n",
    "print(matrix)\n",
    "plot_confusion_matrix(lda,x_1_test,y_1_test,\n",
    "                     \n",
    "                     display_labels=[\"LDA(Down)\",\"LDA(Up)\"])"
   ]
  },
  {
   "cell_type": "markdown",
   "id": "0fb64f72",
   "metadata": {},
   "source": [
    "The diagonal elemets are positively identified by the Direction. The market assigned 37 days to the \"Down\" class. and 568 days to the \"Up\" class."
   ]
  },
  {
   "cell_type": "markdown",
   "id": "b7848cee",
   "metadata": {},
   "source": [
    "**E)Fitting QDA.**"
   ]
  },
  {
   "cell_type": "markdown",
   "id": "46f73e5f",
   "metadata": {},
   "source": [
    "Quadratic disriminant analysis is quite similar to Linear discriminant analysis except we relaxed the assumption that the mean covariance of all the classes were equal. Therefore, we required to calculate it separately.\n",
    "The difference is that QDA assumes that each class has its own covariance matrix, while LDA does not."
   ]
  },
  {
   "cell_type": "code",
   "execution_count": 51,
   "id": "a2aa8b7f",
   "metadata": {},
   "outputs": [],
   "source": [
    "from sklearn.discriminant_analysis import QuadraticDiscriminantAnalysis\n",
    "qda = QuadraticDiscriminantAnalysis()\n",
    "qda.fit(x_1, y_1)\n",
    "y2_pred=qda.predict(x_1_test)\n",
    "model2=qda.fit(x_1_train,y_1_train)"
   ]
  },
  {
   "cell_type": "code",
   "execution_count": 52,
   "id": "f2285245",
   "metadata": {},
   "outputs": [
    {
     "name": "stdout",
     "output_type": "stream",
     "text": [
      "[0.44444444 0.55555556]\n",
      "[[ 0.28229545 -0.04042355]\n",
      " [ 0.04521653  0.30428099]]\n"
     ]
    }
   ],
   "source": [
    "print(model2.priors_)\n",
    "print(model2.means_)"
   ]
  },
  {
   "cell_type": "markdown",
   "id": "875e83fc",
   "metadata": {},
   "source": [
    "The output contains the group means. But it does not contain te coefficients of the linear discriminants, because the QDA classifier involves a quadratic, rather than a linear, function of the predictors."
   ]
  },
  {
   "cell_type": "code",
   "execution_count": 53,
   "id": "67edb62a",
   "metadata": {},
   "outputs": [
    {
     "name": "stdout",
     "output_type": "stream",
     "text": [
      "[[ 61 423]\n",
      " [ 63 542]]\n"
     ]
    },
    {
     "data": {
      "text/plain": [
       "<sklearn.metrics._plot.confusion_matrix.ConfusionMatrixDisplay at 0x21363fb8310>"
      ]
     },
     "execution_count": 53,
     "metadata": {},
     "output_type": "execute_result"
    },
    {
     "data": {
      "image/png": "[encoded data removed]",
      "text/plain": [
       "<Figure size 432x288 with 2 Axes>"
      ]
     },
     "metadata": {
      "needs_background": "light"
     },
     "output_type": "display_data"
    }
   ],
   "source": [
    "from sklearn.metrics import confusion_matrix\n",
    "matrix=confusion_matrix(y_1_test,y2_pred)\n",
    "print(matrix)\n",
    "plot_confusion_matrix(qda,x_1_test,y_1_test,\n",
    "                     \n",
    "                     display_labels=[\"QDA(Down)\",\"QDA(Up)\"])"
   ]
  },
  {
   "cell_type": "markdown",
   "id": "029745b1",
   "metadata": {},
   "source": [
    "**Mean Accuarcy of QDA**"
   ]
  },
  {
   "cell_type": "code",
   "execution_count": 54,
   "id": "d858d062",
   "metadata": {},
   "outputs": [
    {
     "name": "stdout",
     "output_type": "stream",
     "text": [
      "0.5537190082644629\n"
     ]
    }
   ],
   "source": [
    "from sklearn.metrics import accuracy_score\n",
    "Accuracy_score=accuracy_score(y_1_test,y2_pred)\n",
    "print(Accuracy_score)"
   ]
  },
  {
   "cell_type": "markdown",
   "id": "cc927165",
   "metadata": {},
   "source": [
    "The QDA predictions are accurate almost 55.37$\\%$, LDA prediction are accurate almost 55.55$\\%$ and logistic regression prediction score is 58.24$\\%$. Then we say that the logistic regression gives more accuracy than LDA and QDA, the level of accuracy is quite impressive for weekly dataset."
   ]
  },
  {
   "cell_type": "markdown",
   "id": "0b6239dd",
   "metadata": {},
   "source": [
    "**F) Fitting KNN**"
   ]
  },
  {
   "cell_type": "markdown",
   "id": "aedc030b",
   "metadata": {},
   "source": [
    "K-nearest neighbors is one of the simplest supervised machine learning algorithm mostly used for classification.  \n",
    "To find nearest neighbours we will calculate euclidean distance.  \n",
    "$dist(d)=\\sqrt{(x-a)^{2}+(y-a)^{2}}$.  \n",
    "K-NN can be used to solve both classification and regression problem statements.  \n",
    "It makes highly accurate predictions.  \n",
    "If k=1, then the object is simply assigned to the class of that single nearest neighbour. K value indicate the count of the nearest neighbour.  "
   ]
  },
  {
   "cell_type": "code",
   "execution_count": 73,
   "id": "aa3f9a59",
   "metadata": {},
   "outputs": [
    {
     "data": {
      "text/plain": [
       "KNeighborsClassifier(n_neighbors=1)"
      ]
     },
     "execution_count": 73,
     "metadata": {},
     "output_type": "execute_result"
    }
   ],
   "source": [
    "from sklearn.preprocessing import StandardScaler\n",
    "sc=StandardScaler()\n",
    "x_1_train_1=sc.fit_transform(x_1_train)\n",
    "x_1_test=sc.transform(x_1_test)\n",
    "from sklearn.neighbors import KNeighborsClassifier\n",
    "knn=KNeighborsClassifier(n_neighbors=1)\n",
    "knn.fit(x_1_train,y_1_train)"
   ]
  },
  {
   "cell_type": "code",
   "execution_count": 74,
   "id": "8d60136b",
   "metadata": {},
   "outputs": [
    {
     "name": "stdout",
     "output_type": "stream",
     "text": [
      "[0 1 0 ... 0 0 0]\n"
     ]
    }
   ],
   "source": [
    "y_pred_knn=knn.predict(x_1_test)\n",
    "print(y_pred_knn)"
   ]
  },
  {
   "cell_type": "code",
   "execution_count": 75,
   "id": "d8450347",
   "metadata": {},
   "outputs": [
    {
     "name": "stdout",
     "output_type": "stream",
     "text": [
      "[[219 265]\n",
      " [262 343]]\n"
     ]
    }
   ],
   "source": [
    "from sklearn.metrics import confusion_matrix\n",
    "matrix=confusion_matrix(y_1_test,y_pred_knn)\n",
    "print(matrix)"
   ]
  },
  {
   "cell_type": "code",
   "execution_count": 76,
   "id": "28d634d0",
   "metadata": {},
   "outputs": [
    {
     "data": {
      "text/plain": [
       "<sklearn.metrics._plot.confusion_matrix.ConfusionMatrixDisplay at 0x21362f54df0>"
      ]
     },
     "execution_count": 76,
     "metadata": {},
     "output_type": "execute_result"
    },
    {
     "data": {
      "image/png": "[encoded data removed]",
      "text/plain": [
       "<Figure size 432x288 with 2 Axes>"
      ]
     },
     "metadata": {
      "needs_background": "light"
     },
     "output_type": "display_data"
    }
   ],
   "source": [
    "plot_confusion_matrix(knn,x_1_test,y_1_test,\n",
    "                     \n",
    "                     display_labels=[\"KNN(Down)\",\"KNN(Up)\"])"
   ]
  },
  {
   "cell_type": "markdown",
   "id": "9d6e0699",
   "metadata": {},
   "source": [
    "The result using k=1 are not very good.The diagonal elements are positively identified by class and tells us that the market goes on down by 219 days and the market increses by 343 days."
   ]
  },
  {
   "cell_type": "markdown",
   "id": "a21f5203",
   "metadata": {},
   "source": [
    "**Mean Accuracy Of KNN**"
   ]
  },
  {
   "cell_type": "code",
   "execution_count": 77,
   "id": "ed5e8662",
   "metadata": {},
   "outputs": [
    {
     "name": "stdout",
     "output_type": "stream",
     "text": [
      "Accuracy of the model is 0.5160697887970616\n",
      "Error rate of model is 0.48393021120293844\n"
     ]
    }
   ],
   "source": [
    "from sklearn.metrics import accuracy_score\n",
    "Accuracy_score=accuracy_score(y_1_test,y_pred_knn)\n",
    "print(\"Accuracy of the model is\",Accuracy_score)\n",
    "print(\"Error rate of model is\",(1-Accuracy_score))"
   ]
  },
  {
   "cell_type": "markdown",
   "id": "0d3424db",
   "metadata": {},
   "source": [
    "We got Accuracy of the model is 51$\\%$.As we have increased the number of neighbors in the model.the accuracy got decreases but this is not necessray for each case."
   ]
  },
  {
   "cell_type": "markdown",
   "id": "a3a9b602",
   "metadata": {},
   "source": [
    "**For k=2**"
   ]
  },
  {
   "cell_type": "code",
   "execution_count": 78,
   "id": "2f7c338f",
   "metadata": {},
   "outputs": [
    {
     "name": "stdout",
     "output_type": "stream",
     "text": [
      "0.4921946740128558\n"
     ]
    }
   ],
   "source": [
    "from sklearn.neighbors import KNeighborsClassifier\n",
    "knn1=KNeighborsClassifier(n_neighbors=2)\n",
    "knn1.fit(x_1_train,y_1_train)\n",
    "y_pred_knn1=knn1.predict(x_1_test)\n",
    "from sklearn.metrics import accuracy_score\n",
    "Accuracy_score=accuracy_score(y_1_test,y_pred_knn1)\n",
    "print(Accuracy_score)"
   ]
  },
  {
   "cell_type": "markdown",
   "id": "ebd6f6f7",
   "metadata": {},
   "source": [
    "Using k=2,Accuarcy Score is reduced."
   ]
  },
  {
   "cell_type": "markdown",
   "id": "d1e8a953",
   "metadata": {},
   "source": [
    "**On Applying Logistic,QDA,LDA and Knn on the model. We get best result by Logistic regression model.**"
   ]
  },
  {
   "cell_type": "code",
   "execution_count": null,
   "id": "bf7a6fc2",
   "metadata": {},
   "outputs": [],
   "source": []
  }
 ],
 "metadata": {
  "kernelspec": {
   "display_name": "Python 3 (ipykernel)",
   "language": "python",
   "name": "python3"
  },
  "language_info": {
   "codemirror_mode": {
    "name": "ipython",
    "version": 3
   },
   "file_extension": ".py",
   "mimetype": "text/x-python",
   "name": "python",
   "nbconvert_exporter": "python",
   "pygments_lexer": "ipython3",
   "version": "3.9.5"
  }
 },
 "nbformat": 4,
 "nbformat_minor": 5
}
