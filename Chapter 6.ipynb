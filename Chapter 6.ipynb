{
 "cells": [
  {
   "cell_type": "markdown",
   "id": "be2e9b50",
   "metadata": {},
   "source": [
    "# Clustering Algorithms\n",
    "\n",
    "#  k-means and Hierarchical clustering."
   ]
  },
  {
   "cell_type": "markdown",
   "id": "f9e85e4a",
   "metadata": {},
   "source": [
    "## Problem Statement\n",
    "\n",
    "### Objective"
   ]
  },
  {
   "cell_type": "markdown",
   "id": "cd634624",
   "metadata": {},
   "source": [
    "### Importing the required libraries"
   ]
  },
  {
   "cell_type": "code",
   "execution_count": null,
   "id": "fd579f85",
   "metadata": {},
   "outputs": [],
   "source": [
    "from sklearn.preprocessing import StandardScaler\n",
    "scaler= StandardScaler()\n",
    "from sklearn.cluster import KMeans\n",
    "import scipy.cluster.hierarchy as sch\n",
    "from sklearn.cluster import AgglomerativeClustering"
   ]
  },
  {
   "cell_type": "code",
   "execution_count": null,
   "id": "a5fad9af",
   "metadata": {},
   "outputs": [],
   "source": [
    "df1=pd.read_csv('Mall_customers.csv')\n",
    "df1.head()"
   ]
  },
  {
   "cell_type": "markdown",
   "id": "87e37e1e",
   "metadata": {},
   "source": [
    "This dataset is taken from www.kaggle.com\n",
    "\n",
    "- CustomerID: It is the unique ID given to a customer\n",
    "- Gender: Gender of the customer\n",
    "- Age: The age of the customer\n",
    "- Anuual Income: It is the annual income of the customer\n",
    "- Spending Score (1-100): It is the score(out of 100) given to a customer by the mall authorities,based on the money spend and    the behavior of the customer"
   ]
  },
  {
   "cell_type": "code",
   "execution_count": null,
   "id": "e1eda63b",
   "metadata": {},
   "outputs": [],
   "source": [
    "sns.set(style='whitegrid')\n",
    "sns.displot(df1['Annual Income (k$)'])\n",
    "plt.title('Distribution of Anuual Income',fontsize=20)\n",
    "plt.xlabel=('Range of Anuual Income')\n",
    "plt.ylabel=('count')\n",
    "plt.show()"
   ]
  },
  {
   "cell_type": "markdown",
   "id": "9a59cc28",
   "metadata": {},
   "source": [
    "Most of the annual income falls between 50k to 80k.  \n",
    "Anuual income of the people are positively skewed."
   ]
  },
  {
   "cell_type": "code",
   "execution_count": null,
   "id": "ca7fab3c",
   "metadata": {},
   "outputs": [],
   "source": []
  },
  {
   "cell_type": "code",
   "execution_count": null,
   "id": "9fbb1003",
   "metadata": {},
   "outputs": [],
   "source": [
    "sns.set(style='dark')\n",
    "sns.displot(df1['Age'])\n",
    "plt.title('Distribution of Age',fontsize=20)\n",
    "plt.xlabel=('Range of Age')\n",
    "plt.ylabel=('count')\n",
    "plt.show()"
   ]
  },
  {
   "cell_type": "markdown",
   "id": "5841b58c",
   "metadata": {},
   "source": [
    "There are customers of wide variety of ages. The age group between 30-40 are more spending the mall."
   ]
  },
  {
   "cell_type": "code",
   "execution_count": null,
   "id": "256de577",
   "metadata": {},
   "outputs": [],
   "source": [
    "sns.set(style='whitegrid')\n",
    "sns.displot(df1['Spending Score (1-100)'])\n",
    "plt.title('Distribution of Spending Score (1-100)',fontsize=20)\n",
    "plt.xlabel=('Range of Spending Score (1-100)')\n",
    "plt.ylabel=('count')\n",
    "plt.show()"
   ]
  },
  {
   "cell_type": "markdown",
   "id": "6157b1a7",
   "metadata": {},
   "source": [
    "The maximum spending score is in the range 40 to 60.They are normally distributed"
   ]
  },
  {
   "cell_type": "code",
   "execution_count": null,
   "id": "c2b9fdca",
   "metadata": {},
   "outputs": [],
   "source": [
    "df1['Genre'].value_counts()"
   ]
  },
  {
   "cell_type": "code",
   "execution_count": null,
   "id": "1d79f49c",
   "metadata": {},
   "outputs": [],
   "source": [
    "labels=['Female','Male']\n",
    "size=[112,88]\n",
    "colors=['lightgreen','orange']\n",
    "explode=[0,0.1]\n",
    "plt.rcParams['figure.figsize']=(5,5)\n",
    "plt.pie(size,colors=colors,explode=explode, labels=labels)\n",
    "plt.title('A pie chart representing the gender')\n",
    "plt.axis('off')\n",
    "plt.legend()\n",
    "plt.show()"
   ]
  },
  {
   "cell_type": "code",
   "execution_count": null,
   "id": "e44b8411",
   "metadata": {},
   "outputs": [],
   "source": [
    "X=df1.iloc[:,[3,4]].values   # Take 2 columns Annual income and Spending scores\n",
    "y=df1.drop(['CustomerID','Genre','Annual Income (k$)'],axis=1) "
   ]
  },
  {
   "cell_type": "code",
   "execution_count": null,
   "id": "5b832cde",
   "metadata": {},
   "outputs": [],
   "source": [
    "#for choosing k\n",
    "sse=[]\n",
    "k_rng=range(1,11)\n",
    "for k in k_rng:\n",
    "    km=KMeans(n_clusters=k,init='k-means++',max_iter=300,n_init=10,random_state=0)\n",
    "    km\n",
    "    km.fit(X)\n",
    "    sse.append(km.inertia_)\n",
    "plt.plot(range(1, 11), sse)\n",
    "plt.title=\"The Elbow Method\"\n",
    "plt.xlabel=\"Number of clusters\"\n",
    "plt.ylabel=\"SSE\"\n",
    "plt.grid(True)\n",
    "plt.show()\n",
    "    "
   ]
  },
  {
   "cell_type": "markdown",
   "id": "d9341a28",
   "metadata": {},
   "source": [
    "From the above graph we see that elbow curve is bent at k=5, Hence we choose k=5.  \n",
    "The elbow method is a method of interpretation and validation of interpretation and validation of consistency within_cluster\n",
    "analysis designed to help to find the appropriate number of clusters in a dataset.\n",
    "It is clear from the figure that we should take the number of cluster equal to 5,as a slope of curve is not steep enough after\n",
    "it.\n",
    "\n",
    "In the above graph, the point after which the slope is getting decreased is called the elbow point."
   ]
  },
  {
   "cell_type": "code",
   "execution_count": null,
   "id": "13293464",
   "metadata": {},
   "outputs": [],
   "source": [
    "km=KMeans(n_clusters=5,init='k-means++',random_state=10)\n",
    "y_kmeans=km.fit_predict(X)\n",
    "y_kmeans"
   ]
  },
  {
   "cell_type": "code",
   "execution_count": null,
   "id": "71af6d91",
   "metadata": {},
   "outputs": [],
   "source": [
    "km.cluster_centers_    # This are the centroid of 5 clusters"
   ]
  },
  {
   "cell_type": "code",
   "execution_count": null,
   "id": "654fe8da",
   "metadata": {},
   "outputs": [],
   "source": [
    "plt.scatter(X[y_kmeans == 0, 0], X[y_kmeans == 0, 1], s = 100, c = 'red', label = 'Cluster 1')\n",
    "plt.scatter(X[y_kmeans == 1, 0], X[y_kmeans == 1, 1], s = 100, c = 'blue', label = 'Cluster 2')\n",
    "plt.scatter(X[y_kmeans == 2, 0], X[y_kmeans == 2, 1], s = 100, c = 'green', label = 'Cluster 3')\n",
    "plt.scatter(X[y_kmeans == 3, 0], X[y_kmeans == 3, 1], s = 100, c = 'pink', label = 'Cluster 4')\n",
    "plt.scatter(X[y_kmeans == 4, 0], X[y_kmeans == 4, 1], s = 100, c = 'Orange', label = 'Cluster 5')\n",
    "plt.scatter(km.cluster_centers_[:, 0], km.cluster_centers_[:, 1], s = 300, c = 'Yellow', marker='*',label = 'Centroids')\n",
    "plt.title='Clusters of K Means clustring'\n",
    "plt.xlabel='Anuual Income'\n",
    "plt.ylabel='Spending Score'\n",
    "plt.legend()\n",
    "plt.grid()\n",
    "plt.show()"
   ]
  },
  {
   "cell_type": "markdown",
   "id": "7dbd2f55",
   "metadata": {},
   "source": [
    "From the above scatterplot we can see visualize different clusters among anuual income and total spending scores. There is a total spending scores. There is a total of 5 clusters are created in this scatter plot and the yellow points are the centroid of the 5 clusters.  \n",
    "We can see that the mall customers can be broadly grouped into 5 groups based on their purchases made in the mall.  \n",
    "\n",
    "In cluster 4(pink color) we can we can see people have low annual income and low spending scores, this is quite reasonable \n",
    "as people having low salaries prefer to buy less, in fact, these are the wise people who know how to spend and save money. The\n",
    "mall will be least interested in people belonging to this cluster.  \n",
    "\n",
    "In cluster 1(red colored) we can see that people have low income but higher spending scores, these are those people who for some reason love to buy products more often even though thy have a low income. Maybe it's because these people ae more than satisfied with the mall services.  \n",
    "\n",
    "In cluster 2(blue colored) we can see that people have average income and an average spending score, these people again will not the prime targets of the mall, but again they will be considered and other data analysis techniques may be used to increase \n",
    "their spending score.\n",
    "\n",
    "In cluster 3(green color) we see that people have high income and high spending scores, this is the ideal case for the mall as these people are the prime sources of profit. These people might be the regular customers of the mall and are convinced by \n",
    "the mall's facilities.\n",
    "\n",
    "In cluster 5(orange color) we see that people have high income but low spending scores, this is interesting. maybe these are the people who are unsatisfied or unhappy by the mall's services. These can be the prime targets of the mall, as they have the potential to spend money. So,the mall authorities will try to add new facilities so that they can attract these people and can meet their needs.  "
   ]
  },
  {
   "cell_type": "markdown",
   "id": "8068b590",
   "metadata": {},
   "source": [
    "### Hierarchical clustering Analysis"
   ]
  },
  {
   "cell_type": "markdown",
   "id": "9592328b",
   "metadata": {},
   "source": [
    "**1)Agglomerative Hierarchical Clustering.**  \n",
    "**It is Bottom Up approach where each observation starts in its own clusters are merged as one moves up hierarchy.**"
   ]
  },
  {
   "cell_type": "markdown",
   "id": "37015fa3",
   "metadata": {},
   "source": [
    "**Linkage Criterion**  \n",
    "**1) Single-Linkage:- Single linkage is the shortest distance between a pair of observations in two clusters.**"
   ]
  },
  {
   "cell_type": "code",
   "execution_count": null,
   "id": "3eff2eaf",
   "metadata": {},
   "outputs": [],
   "source": [
    "df1_1= df1.iloc[:,[3,4]].values  \n",
    "scaled_df1_1 = scaler.fit_transform(df1_1)"
   ]
  },
  {
   "cell_type": "markdown",
   "id": "8a9a04e3",
   "metadata": {},
   "source": [
    "**Single linkage will produce the dendograms which are not in structured manner.**"
   ]
  },
  {
   "cell_type": "code",
   "execution_count": 2,
   "id": "7d2e94b7",
   "metadata": {},
   "outputs": [
    {
     "ename": "NameError",
     "evalue": "name 'plt' is not defined",
     "output_type": "error",
     "traceback": [
      "\u001b[1;31m---------------------------------------------------------------------------\u001b[0m",
      "\u001b[1;31mNameError\u001b[0m                                 Traceback (most recent call last)",
      "\u001b[1;32m<ipython-input-2-b53ed299fb04>\u001b[0m in \u001b[0;36m<module>\u001b[1;34m\u001b[0m\n\u001b[1;32m----> 1\u001b[1;33m \u001b[0mplt\u001b[0m\u001b[1;33m.\u001b[0m\u001b[0mfigure\u001b[0m\u001b[1;33m(\u001b[0m\u001b[0mfigsize\u001b[0m\u001b[1;33m=\u001b[0m\u001b[1;33m(\u001b[0m\u001b[1;36m15\u001b[0m\u001b[1;33m,\u001b[0m\u001b[1;36m5\u001b[0m\u001b[1;33m)\u001b[0m\u001b[1;33m)\u001b[0m\u001b[1;33m\u001b[0m\u001b[1;33m\u001b[0m\u001b[0m\n\u001b[0m\u001b[0;32m      2\u001b[0m \u001b[0mplt\u001b[0m\u001b[1;33m.\u001b[0m\u001b[0mtitle\u001b[0m\u001b[1;33m=\u001b[0m\u001b[1;34m\"Single Linkage Criterion\"\u001b[0m\u001b[1;33m\u001b[0m\u001b[1;33m\u001b[0m\u001b[0m\n\u001b[0;32m      3\u001b[0m \u001b[0mdend\u001b[0m \u001b[1;33m=\u001b[0m \u001b[0msch\u001b[0m\u001b[1;33m.\u001b[0m\u001b[0mdendrogram\u001b[0m\u001b[1;33m(\u001b[0m\u001b[0msch\u001b[0m\u001b[1;33m.\u001b[0m\u001b[0mlinkage\u001b[0m\u001b[1;33m(\u001b[0m\u001b[0mscaled_df1_1\u001b[0m\u001b[1;33m,\u001b[0m \u001b[0mmethod\u001b[0m\u001b[1;33m=\u001b[0m\u001b[1;34m'single'\u001b[0m\u001b[1;33m)\u001b[0m\u001b[1;33m)\u001b[0m\u001b[1;33m\u001b[0m\u001b[1;33m\u001b[0m\u001b[0m\n\u001b[0;32m      4\u001b[0m \u001b[0mplt\u001b[0m\u001b[1;33m.\u001b[0m\u001b[0mxlabel\u001b[0m\u001b[1;33m=\u001b[0m\u001b[1;34m'Annual Incoe'\u001b[0m\u001b[1;33m\u001b[0m\u001b[1;33m\u001b[0m\u001b[0m\n\u001b[0;32m      5\u001b[0m \u001b[0mplt\u001b[0m\u001b[1;33m.\u001b[0m\u001b[0mylabel\u001b[0m\u001b[1;33m=\u001b[0m\u001b[1;34m'ecludian distance'\u001b[0m\u001b[1;33m\u001b[0m\u001b[1;33m\u001b[0m\u001b[0m\n",
      "\u001b[1;31mNameError\u001b[0m: name 'plt' is not defined"
     ]
    }
   ],
   "source": [
    "plt.figure(figsize=(15,5))\n",
    "plt.title=\"Single Linkage Criterion\"\n",
    "dend = sch.dendrogram(sch.linkage(scaled_df1_1, method='single'))\n",
    "plt.xlabel='Annual Incoe'\n",
    "plt.ylabel='ecludian distance'"
   ]
  },
  {
   "cell_type": "markdown",
   "id": "60905cef",
   "metadata": {},
   "source": [
    "**2) Complete-Linkage :- Complete linkage is the farthest linkage is the farthest distance between a pair of observations \n",
    "in two clusters.**"
   ]
  },
  {
   "cell_type": "code",
   "execution_count": null,
   "id": "c898f161",
   "metadata": {},
   "outputs": [],
   "source": [
    "plt.figure(figsize=(15,5))\n",
    "plt.title=\"complete linkage Dendograms\"\n",
    "dend = sch.dendrogram(sch.linkage(scaled_df1_1, method='complete'))\n",
    "plt.xlabel='Annual Income'\n",
    "plt.ylabel='Euclidean Distance'"
   ]
  },
  {
   "cell_type": "markdown",
   "id": "225a4ba6",
   "metadata": {},
   "source": [
    "**3) Average-Linkage:- Average linkage is the distance between each observation in one cluster to every observation \n",
    "    in other clusters**"
   ]
  },
  {
   "cell_type": "code",
   "execution_count": null,
   "id": "a3e6dc86",
   "metadata": {},
   "outputs": [],
   "source": [
    "plt.figure(figsize=(15,5))\n",
    "plt.title=\"Avearge linkage  Dendograms\"\n",
    "dend = sch.dendrogram(sch.linkage(scaled_df1_1, method='average'))\n",
    "plt.xlabel='Annual Income($)'\n",
    "plt.ylabel='Euclidean Distance'"
   ]
  },
  {
   "cell_type": "markdown",
   "id": "8782ee7a",
   "metadata": {},
   "source": [
    "**The Average linkage produce dendogram which are in tree manner**"
   ]
  },
  {
   "cell_type": "markdown",
   "id": "8df41896",
   "metadata": {},
   "source": [
    "**4)Ward's-linkage :- It is a mininum variance method that calculates the distance between two clusters as increase in the \n",
    "minimum sum of squares after merging the two clusters into single clusters.**  \n",
    "**Ward's Linakge criteria is the default option.to choose linkage criterion.**"
   ]
  },
  {
   "cell_type": "code",
   "execution_count": null,
   "id": "97b1cf1a",
   "metadata": {},
   "outputs": [],
   "source": [
    "X=df1.iloc[:,[3,4]].values\n",
    "from scipy.cluster.hierarchy import linkage\n",
    "import scipy.cluster.hierarchy as sch\n",
    "plt.figure(figsize=(10,10))\n",
    "dendrogram=sch.dendrogram(sch.linkage(scaled_df1_1,method='ward'))\n",
    "plt.title='dendrogram'\n",
    "plt.xlabel='Annual Income'\n",
    "plt.ylabel='Euclidean distances'\n",
    "plt.show"
   ]
  },
  {
   "cell_type": "markdown",
   "id": "477fc83b",
   "metadata": {},
   "source": [
    "We can extract the optimal number of clusters by looking the dendogram.By looking the dendogram, we say that optimal no of \n",
    "clusters is 5.\n",
    "We can say that for above four method the wald method is best method.  \n",
    "A dendrogram is a diagram that shows the hierarchical relationship between objects. It is most commonly created as an output from hierarchical clusterig The main use of a dendrogram is to work out the best way to allocate objects to clusters the \n",
    "dendrogram above shows the hierarchical clustering of different observations shows on the scatterplot."
   ]
  },
  {
   "cell_type": "code",
   "execution_count": 3,
   "id": "026ecc89",
   "metadata": {},
   "outputs": [
    {
     "ename": "NameError",
     "evalue": "name 'AgglomerativeClustering' is not defined",
     "output_type": "error",
     "traceback": [
      "\u001b[1;31m---------------------------------------------------------------------------\u001b[0m",
      "\u001b[1;31mNameError\u001b[0m                                 Traceback (most recent call last)",
      "\u001b[1;32m<ipython-input-3-04744bfde749>\u001b[0m in \u001b[0;36m<module>\u001b[1;34m\u001b[0m\n\u001b[0;32m      1\u001b[0m \u001b[1;31m# Fit the Agglomerative Clustering\u001b[0m\u001b[1;33m\u001b[0m\u001b[1;33m\u001b[0m\u001b[1;33m\u001b[0m\u001b[0m\n\u001b[0;32m      2\u001b[0m \u001b[1;33m\u001b[0m\u001b[0m\n\u001b[1;32m----> 3\u001b[1;33m \u001b[0mAC\u001b[0m \u001b[1;33m=\u001b[0m \u001b[0mAgglomerativeClustering\u001b[0m\u001b[1;33m(\u001b[0m\u001b[0mn_clusters\u001b[0m \u001b[1;33m=\u001b[0m \u001b[1;36m5\u001b[0m\u001b[1;33m,\u001b[0m \u001b[0maffinity\u001b[0m \u001b[1;33m=\u001b[0m \u001b[1;34m'euclidean'\u001b[0m\u001b[1;33m,\u001b[0m \u001b[0mlinkage\u001b[0m \u001b[1;33m=\u001b[0m\u001b[1;34m'ward'\u001b[0m\u001b[1;33m)\u001b[0m\u001b[1;33m\u001b[0m\u001b[1;33m\u001b[0m\u001b[0m\n\u001b[0m",
      "\u001b[1;31mNameError\u001b[0m: name 'AgglomerativeClustering' is not defined"
     ]
    }
   ],
   "source": [
    "# Fit the Agglomerative Clustering\n",
    " \n",
    "AC = AgglomerativeClustering(n_clusters = 5, affinity = 'euclidean', linkage ='ward')"
   ]
  },
  {
   "cell_type": "code",
   "execution_count": null,
   "id": "267eb9e8",
   "metadata": {},
   "outputs": [],
   "source": [
    "# Fit and predict to have the cluster labels.\n",
    "\n",
    "y_pred =AC.fit_predict(df1_1)\n",
    "y_pred"
   ]
  },
  {
   "cell_type": "code",
   "execution_count": null,
   "id": "5e0f1323",
   "metadata": {},
   "outputs": [],
   "source": [
    "plt.figure(figsize=(10,5))\n",
    "plt.scatter(df1_1[y_pred==0, 0], df1_1[y_pred==0, 1], s=100, c='red', label ='cluster1')\n",
    "plt.scatter(df1_1[y_pred==1, 0], df1_1[y_pred==1, 1], s=100, c='blue', label ='cluster2')\n",
    "plt.scatter(df1_1[y_pred==2, 0], df1_1[y_pred==2, 1], s=100, c='green', label ='cluster3')\n",
    "plt.scatter(df1_1[y_pred==3, 0], df1_1[y_pred==3, 1], s=100, c='pink', label ='cluster4')\n",
    "plt.scatter(df1_1[y_pred==4, 0], df1_1[y_pred==4, 1], s=100, c='black', label ='cluster5')\n",
    "plt.xlabel='Annual Income'\n",
    "plt.ylabel='Spending Scores'\n",
    "plt.legend()\n",
    "plt.show()"
   ]
  },
  {
   "cell_type": "markdown",
   "id": "567df53c",
   "metadata": {},
   "source": [
    "**Here we can visualize the five clusters here.**  \n",
    "From the above scatterplot we can visualize different clusters among anuual income and total spending score. There is a total of 5 clusters are created in this scatter plot and the and here no centroid point.  \n",
    "In cluter 4(black color) we can see people have low annual income and low spending scores."
   ]
  }
 ],
 "metadata": {
  "kernelspec": {
   "display_name": "Python 3 (ipykernel)",
   "language": "python",
   "name": "python3"
  },
  "language_info": {
   "codemirror_mode": {
    "name": "ipython",
    "version": 3
   },
   "file_extension": ".py",
   "mimetype": "text/x-python",
   "name": "python",
   "nbconvert_exporter": "python",
   "pygments_lexer": "ipython3",
   "version": "3.9.5"
  }
 },
 "nbformat": 4,
 "nbformat_minor": 5
}
